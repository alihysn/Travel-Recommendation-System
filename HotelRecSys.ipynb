{
  "cells": [
    {
      "cell_type": "markdown",
      "source": [
        "#Imports"
      ],
      "metadata": {
        "id": "79U8uNUxEl6h"
      }
    },
    {
      "cell_type": "code",
      "source": [
        "import pandas as pd \n",
        "import numpy as np\n",
        "import random \n",
        "import ast\n",
        "from nltk.stem.porter import PorterStemmer\n",
        "import re\n",
        "import seaborn as sns\n",
        "from sklearn.cluster import KMeans\n",
        "from sklearn.metrics import silhouette_samples\n",
        "from sklearn.datasets import make_blobs\n",
        "from sklearn.metrics import silhouette_score\n",
        "import matplotlib.pyplot as plt \n",
        "from ast import literal_eval\n",
        "from sklearn.feature_extraction.text import CountVectorizer \n",
        "import nltk\n",
        "from scipy.sparse.linalg import svds\n",
        "from sklearn.decomposition import PCA\n",
        "nltk.download('punkt')\n",
        "nltk.download('wordnet')\n",
        "nltk.download('stopwords')\n",
        "nltk.download('omw-1.4')\n",
        "from nltk.corpus import stopwords\n",
        "from nltk.tokenize import word_tokenize\n",
        "from nltk.stem.wordnet import WordNetLemmatizer\n",
        "from sklearn.metrics.pairwise import cosine_similarity\n",
        "from collections import Counter\n",
        "from sklearn.neighbors import KNeighborsRegressor\n",
        "knn_model = KNeighborsRegressor(n_neighbors=1)"
      ],
      "metadata": {
        "id": "0UYMN5ApozVj",
        "colab": {
          "base_uri": "https://localhost:8080/"
        },
        "outputId": "440954d1-5498-4120-b9e1-b536e3145a7c"
      },
      "execution_count": 1,
      "outputs": [
        {
          "output_type": "stream",
          "name": "stderr",
          "text": [
            "[nltk_data] Downloading package punkt to /root/nltk_data...\n",
            "[nltk_data]   Unzipping tokenizers/punkt.zip.\n",
            "[nltk_data] Downloading package wordnet to /root/nltk_data...\n",
            "[nltk_data] Downloading package stopwords to /root/nltk_data...\n",
            "[nltk_data]   Unzipping corpora/stopwords.zip.\n",
            "[nltk_data] Downloading package omw-1.4 to /root/nltk_data...\n"
          ]
        }
      ]
    },
    {
      "cell_type": "code",
      "source": [
        "df1= pd.read_csv(\"Hotel_Reviews.csv\")\n",
        "cv=CountVectorizer(max_features=5000,stop_words='english')\n",
        "ps=PorterStemmer()"
      ],
      "metadata": {
        "id": "YIN189Cho3Gg"
      },
      "execution_count": 2,
      "outputs": []
    },
    {
      "cell_type": "code",
      "source": [],
      "metadata": {
        "id": "602WiLjO7D0C"
      },
      "execution_count": 2,
      "outputs": []
    },
    {
      "cell_type": "markdown",
      "source": [
        "#Functions"
      ],
      "metadata": {
        "id": "DBRUKRZLDa7T"
      }
    },
    {
      "cell_type": "code",
      "source": [
        "def split(frame,new_col_name,position):\n",
        "  frame[new_col_name]=df1.Hotel_Address.apply(lambda x: x.split(' ')[position])"
      ],
      "metadata": {
        "id": "A73EDVxeo3O2"
      },
      "execution_count": 3,
      "outputs": []
    },
    {
      "cell_type": "code",
      "source": [
        "def rescale(frame,column):\n",
        "    frame[column]=frame[column]-frame[column].min()\n",
        "    frame[column]=frame[column]*(10/frame[column].max())\n",
        " "
      ],
      "metadata": {
        "id": "ZViv2wAko3Q1"
      },
      "execution_count": 4,
      "outputs": []
    },
    {
      "cell_type": "code",
      "source": [
        "def convert(column):\n",
        "   column=column[0]\n",
        "   if(type(column) != list):\n",
        "      return \"\".join(literal_eval(column))\n",
        "   else:\n",
        "      return column"
      ],
      "metadata": {
        "id": "dU5KPqTuo3TD"
      },
      "execution_count": 5,
      "outputs": []
    },
    {
      "cell_type": "code",
      "source": [
        "def Stem(text):\n",
        "  L=[]\n",
        "  for i in text.split():\n",
        "    L.append(ps.stem(i))\n",
        "  return ' '.join(L)"
      ],
      "metadata": {
        "id": "PT-ks6AuE06D"
      },
      "execution_count": 6,
      "outputs": []
    },
    {
      "cell_type": "code",
      "source": [
        "def add_user_input(frame,country,city, description):\n",
        " frame.loc[-1] = ['User_Choice',country,city,10,10,10,description,0]\n",
        " frame.index = frame.index + 1  # shifting index\n",
        " frame.sort_index(inplace=True)"
      ],
      "metadata": {
        "id": "QSsqpAnZxEYU"
      },
      "execution_count": 7,
      "outputs": []
    },
    {
      "cell_type": "code",
      "source": [
        "def remove_duplicates(sentence):\n",
        "    words = sentence.split(\" \")\n",
        "    result = []\n",
        "    for word in words:\n",
        "        if word not in result:\n",
        "            result.append(word)\n",
        "    return \" \".join(result)"
      ],
      "metadata": {
        "id": "WUY5SipgluNR"
      },
      "execution_count": 8,
      "outputs": []
    },
    {
      "cell_type": "code",
      "source": [
        "def Get_Ids(ids,hlist,frame): \n",
        "  for i in hlist:\n",
        "   ids.append(frame.iloc[i[0]].id)"
      ],
      "metadata": {
        "id": "1QyFdd8oro5M"
      },
      "execution_count": 9,
      "outputs": []
    },
    {
      "cell_type": "code",
      "source": [
        "def getcountry (newframe,oldframe, column,country):\n",
        "  newframe=oldframe.loc[oldframe[column]==country]"
      ],
      "metadata": {
        "id": "EafLSVuZ6b1i"
      },
      "execution_count": 10,
      "outputs": []
    },
    {
      "cell_type": "markdown",
      "source": [
        "# EDA"
      ],
      "metadata": {
        "id": "IxnneR_yDrX4"
      }
    },
    {
      "cell_type": "markdown",
      "source": [
        "## Cleaning"
      ],
      "metadata": {
        "id": "pOG1yIgBES9F"
      }
    },
    {
      "cell_type": "code",
      "source": [
        "df1.isnull().sum()"
      ],
      "metadata": {
        "colab": {
          "base_uri": "https://localhost:8080/"
        },
        "id": "lgzq3W13wqjY",
        "outputId": "87869fe3-387f-450d-d416-5b44b0842b57"
      },
      "execution_count": 11,
      "outputs": [
        {
          "output_type": "execute_result",
          "data": {
            "text/plain": [
              "Hotel_Address                                    0\n",
              "Additional_Number_of_Scoring                     0\n",
              "Review_Date                                      0\n",
              "Average_Score                                    0\n",
              "Hotel_Name                                       0\n",
              "Reviewer_Nationality                             0\n",
              "Negative_Review                                  0\n",
              "Review_Total_Negative_Word_Counts                0\n",
              "Total_Number_of_Reviews                          0\n",
              "Positive_Review                                  0\n",
              "Review_Total_Positive_Word_Counts                0\n",
              "Total_Number_of_Reviews_Reviewer_Has_Given       0\n",
              "Reviewer_Score                                   0\n",
              "Tags                                             0\n",
              "days_since_review                                0\n",
              "lat                                           3268\n",
              "lng                                           3268\n",
              "dtype: int64"
            ]
          },
          "metadata": {},
          "execution_count": 11
        }
      ]
    },
    {
      "cell_type": "code",
      "source": [
        "df1.dropna(inplace=True)"
      ],
      "metadata": {
        "id": "hB-yQcSC2BLW"
      },
      "execution_count": 12,
      "outputs": []
    },
    {
      "cell_type": "code",
      "source": [
        "df1.duplicated().sum()"
      ],
      "metadata": {
        "colab": {
          "base_uri": "https://localhost:8080/"
        },
        "id": "4YuNpL1bwqlP",
        "outputId": "3cc0fdc1-457f-4280-c40a-6ee8e0036677"
      },
      "execution_count": 13,
      "outputs": [
        {
          "output_type": "execute_result",
          "data": {
            "text/plain": [
              "526"
            ]
          },
          "metadata": {},
          "execution_count": 13
        }
      ]
    },
    {
      "cell_type": "code",
      "source": [
        "df1=df1.drop_duplicates()"
      ],
      "metadata": {
        "id": "kRmMGu4LxBPq"
      },
      "execution_count": 14,
      "outputs": []
    },
    {
      "cell_type": "code",
      "source": [
        "df1.duplicated().sum()"
      ],
      "metadata": {
        "colab": {
          "base_uri": "https://localhost:8080/"
        },
        "id": "l31mELQho3KV",
        "outputId": "ad8b3dba-7834-41c5-b317-d1469e1e5155"
      },
      "execution_count": 15,
      "outputs": [
        {
          "output_type": "execute_result",
          "data": {
            "text/plain": [
              "0"
            ]
          },
          "metadata": {},
          "execution_count": 15
        }
      ]
    },
    {
      "cell_type": "markdown",
      "source": [
        "## Reshaping"
      ],
      "metadata": {
        "id": "inJUOM7IED-N"
      }
    },
    {
      "cell_type": "code",
      "source": [
        "split(df1,\"country\",-1)"
      ],
      "metadata": {
        "id": "NlFgYgMZo3VN"
      },
      "execution_count": 16,
      "outputs": []
    },
    {
      "cell_type": "code",
      "source": [
        "split(df1,\"city\",-2)"
      ],
      "metadata": {
        "id": "ntYfYMIqziBp"
      },
      "execution_count": 17,
      "outputs": []
    },
    {
      "cell_type": "code",
      "source": [
        "df1[\"review\"]=df1.Review_Total_Positive_Word_Counts-df1.Review_Total_Negative_Word_Counts"
      ],
      "metadata": {
        "id": "HOeN8KdYo3XJ"
      },
      "execution_count": 18,
      "outputs": []
    },
    {
      "cell_type": "code",
      "source": [
        "rescale(df1,\"review\")"
      ],
      "metadata": {
        "id": "mWQTKrzlo3a2"
      },
      "execution_count": 19,
      "outputs": []
    },
    {
      "cell_type": "code",
      "source": [
        "rescale(df1,\"Total_Number_of_Reviews\")"
      ],
      "metadata": {
        "id": "aUeQoo-Zo3d8"
      },
      "execution_count": 20,
      "outputs": []
    },
    {
      "cell_type": "code",
      "source": [
        "rescale(df1,\"Average_Score\")"
      ],
      "metadata": {
        "id": "MBDPTNmoo3hS"
      },
      "execution_count": 21,
      "outputs": []
    },
    {
      "cell_type": "code",
      "source": [
        "df1.Hotel_Address[1]"
      ],
      "metadata": {
        "colab": {
          "base_uri": "https://localhost:8080/",
          "height": 35
        },
        "id": "zCPuVyu5ayoJ",
        "outputId": "5c95ebd8-5db0-47fd-cdb0-20f9ff29858b"
      },
      "execution_count": 22,
      "outputs": [
        {
          "output_type": "execute_result",
          "data": {
            "text/plain": [
              "' s Gravesandestraat 55 Oost 1092 AA Amsterdam Netherlands'"
            ],
            "application/vnd.google.colaboratory.intrinsic+json": {
              "type": "string"
            }
          },
          "metadata": {},
          "execution_count": 22
        }
      ]
    },
    {
      "cell_type": "code",
      "source": [
        "df1.head()"
      ],
      "metadata": {
        "colab": {
          "base_uri": "https://localhost:8080/",
          "height": 739
        },
        "id": "3MI8Y3aj0ffs",
        "outputId": "eaa54989-9e5b-468f-af27-02e008074f71"
      },
      "execution_count": 23,
      "outputs": [
        {
          "output_type": "execute_result",
          "data": {
            "text/plain": [
              "                                       Hotel_Address  \\\n",
              "0   s Gravesandestraat 55 Oost 1092 AA Amsterdam ...   \n",
              "1   s Gravesandestraat 55 Oost 1092 AA Amsterdam ...   \n",
              "2   s Gravesandestraat 55 Oost 1092 AA Amsterdam ...   \n",
              "3   s Gravesandestraat 55 Oost 1092 AA Amsterdam ...   \n",
              "4   s Gravesandestraat 55 Oost 1092 AA Amsterdam ...   \n",
              "\n",
              "   Additional_Number_of_Scoring Review_Date  Average_Score   Hotel_Name  \\\n",
              "0                           194    8/3/2017       5.434783  Hotel Arena   \n",
              "1                           194    8/3/2017       5.434783  Hotel Arena   \n",
              "2                           194   7/31/2017       5.434783  Hotel Arena   \n",
              "3                           194   7/31/2017       5.434783  Hotel Arena   \n",
              "4                           194   7/24/2017       5.434783  Hotel Arena   \n",
              "\n",
              "  Reviewer_Nationality                                    Negative_Review  \\\n",
              "0              Russia    I am so angry that i made this post available...   \n",
              "1             Ireland                                         No Negative   \n",
              "2           Australia    Rooms are nice but for elderly a bit difficul...   \n",
              "3      United Kingdom    My room was dirty and I was afraid to walk ba...   \n",
              "4         New Zealand    You When I booked with your company on line y...   \n",
              "\n",
              "   Review_Total_Negative_Word_Counts  Total_Number_of_Reviews  \\\n",
              "0                                397                 0.817947   \n",
              "1                                  0                 0.817947   \n",
              "2                                 42                 0.817947   \n",
              "3                                210                 0.817947   \n",
              "4                                140                 0.817947   \n",
              "\n",
              "                                     Positive_Review  \\\n",
              "0   Only the park outside of the hotel was beauti...   \n",
              "1   No real complaints the hotel was great great ...   \n",
              "2   Location was good and staff were ok It is cut...   \n",
              "3   Great location in nice surroundings the bar a...   \n",
              "4    Amazing location and building Romantic setting    \n",
              "\n",
              "   Review_Total_Positive_Word_Counts  \\\n",
              "0                                 11   \n",
              "1                                105   \n",
              "2                                 21   \n",
              "3                                 26   \n",
              "4                                  8   \n",
              "\n",
              "   Total_Number_of_Reviews_Reviewer_Has_Given  Reviewer_Score  \\\n",
              "0                                           7             2.9   \n",
              "1                                           7             7.5   \n",
              "2                                           9             7.1   \n",
              "3                                           1             3.8   \n",
              "4                                           3             6.7   \n",
              "\n",
              "                                                Tags days_since_review  \\\n",
              "0  [' Leisure trip ', ' Couple ', ' Duplex Double...            0 days   \n",
              "1  [' Leisure trip ', ' Couple ', ' Duplex Double...            0 days   \n",
              "2  [' Leisure trip ', ' Family with young childre...            3 days   \n",
              "3  [' Leisure trip ', ' Solo traveler ', ' Duplex...            3 days   \n",
              "4  [' Leisure trip ', ' Couple ', ' Suite ', ' St...           10 days   \n",
              "\n",
              "         lat       lng      country       city    review  \n",
              "0  52.360576  4.915968  Netherlands  Amsterdam  0.203562  \n",
              "1  52.360576  4.915968  Netherlands  Amsterdam  6.450382  \n",
              "2  52.360576  4.915968  Netherlands  Amsterdam  4.847328  \n",
              "3  52.360576  4.915968  Netherlands  Amsterdam  2.773537  \n",
              "4  52.360576  4.915968  Netherlands  Amsterdam  3.435115  "
            ],
            "text/html": [
              "\n",
              "  <div id=\"df-41a4a4bb-5c7a-4474-8b05-8e11f762d63a\">\n",
              "    <div class=\"colab-df-container\">\n",
              "      <div>\n",
              "<style scoped>\n",
              "    .dataframe tbody tr th:only-of-type {\n",
              "        vertical-align: middle;\n",
              "    }\n",
              "\n",
              "    .dataframe tbody tr th {\n",
              "        vertical-align: top;\n",
              "    }\n",
              "\n",
              "    .dataframe thead th {\n",
              "        text-align: right;\n",
              "    }\n",
              "</style>\n",
              "<table border=\"1\" class=\"dataframe\">\n",
              "  <thead>\n",
              "    <tr style=\"text-align: right;\">\n",
              "      <th></th>\n",
              "      <th>Hotel_Address</th>\n",
              "      <th>Additional_Number_of_Scoring</th>\n",
              "      <th>Review_Date</th>\n",
              "      <th>Average_Score</th>\n",
              "      <th>Hotel_Name</th>\n",
              "      <th>Reviewer_Nationality</th>\n",
              "      <th>Negative_Review</th>\n",
              "      <th>Review_Total_Negative_Word_Counts</th>\n",
              "      <th>Total_Number_of_Reviews</th>\n",
              "      <th>Positive_Review</th>\n",
              "      <th>Review_Total_Positive_Word_Counts</th>\n",
              "      <th>Total_Number_of_Reviews_Reviewer_Has_Given</th>\n",
              "      <th>Reviewer_Score</th>\n",
              "      <th>Tags</th>\n",
              "      <th>days_since_review</th>\n",
              "      <th>lat</th>\n",
              "      <th>lng</th>\n",
              "      <th>country</th>\n",
              "      <th>city</th>\n",
              "      <th>review</th>\n",
              "    </tr>\n",
              "  </thead>\n",
              "  <tbody>\n",
              "    <tr>\n",
              "      <th>0</th>\n",
              "      <td>s Gravesandestraat 55 Oost 1092 AA Amsterdam ...</td>\n",
              "      <td>194</td>\n",
              "      <td>8/3/2017</td>\n",
              "      <td>5.434783</td>\n",
              "      <td>Hotel Arena</td>\n",
              "      <td>Russia</td>\n",
              "      <td>I am so angry that i made this post available...</td>\n",
              "      <td>397</td>\n",
              "      <td>0.817947</td>\n",
              "      <td>Only the park outside of the hotel was beauti...</td>\n",
              "      <td>11</td>\n",
              "      <td>7</td>\n",
              "      <td>2.9</td>\n",
              "      <td>[' Leisure trip ', ' Couple ', ' Duplex Double...</td>\n",
              "      <td>0 days</td>\n",
              "      <td>52.360576</td>\n",
              "      <td>4.915968</td>\n",
              "      <td>Netherlands</td>\n",
              "      <td>Amsterdam</td>\n",
              "      <td>0.203562</td>\n",
              "    </tr>\n",
              "    <tr>\n",
              "      <th>1</th>\n",
              "      <td>s Gravesandestraat 55 Oost 1092 AA Amsterdam ...</td>\n",
              "      <td>194</td>\n",
              "      <td>8/3/2017</td>\n",
              "      <td>5.434783</td>\n",
              "      <td>Hotel Arena</td>\n",
              "      <td>Ireland</td>\n",
              "      <td>No Negative</td>\n",
              "      <td>0</td>\n",
              "      <td>0.817947</td>\n",
              "      <td>No real complaints the hotel was great great ...</td>\n",
              "      <td>105</td>\n",
              "      <td>7</td>\n",
              "      <td>7.5</td>\n",
              "      <td>[' Leisure trip ', ' Couple ', ' Duplex Double...</td>\n",
              "      <td>0 days</td>\n",
              "      <td>52.360576</td>\n",
              "      <td>4.915968</td>\n",
              "      <td>Netherlands</td>\n",
              "      <td>Amsterdam</td>\n",
              "      <td>6.450382</td>\n",
              "    </tr>\n",
              "    <tr>\n",
              "      <th>2</th>\n",
              "      <td>s Gravesandestraat 55 Oost 1092 AA Amsterdam ...</td>\n",
              "      <td>194</td>\n",
              "      <td>7/31/2017</td>\n",
              "      <td>5.434783</td>\n",
              "      <td>Hotel Arena</td>\n",
              "      <td>Australia</td>\n",
              "      <td>Rooms are nice but for elderly a bit difficul...</td>\n",
              "      <td>42</td>\n",
              "      <td>0.817947</td>\n",
              "      <td>Location was good and staff were ok It is cut...</td>\n",
              "      <td>21</td>\n",
              "      <td>9</td>\n",
              "      <td>7.1</td>\n",
              "      <td>[' Leisure trip ', ' Family with young childre...</td>\n",
              "      <td>3 days</td>\n",
              "      <td>52.360576</td>\n",
              "      <td>4.915968</td>\n",
              "      <td>Netherlands</td>\n",
              "      <td>Amsterdam</td>\n",
              "      <td>4.847328</td>\n",
              "    </tr>\n",
              "    <tr>\n",
              "      <th>3</th>\n",
              "      <td>s Gravesandestraat 55 Oost 1092 AA Amsterdam ...</td>\n",
              "      <td>194</td>\n",
              "      <td>7/31/2017</td>\n",
              "      <td>5.434783</td>\n",
              "      <td>Hotel Arena</td>\n",
              "      <td>United Kingdom</td>\n",
              "      <td>My room was dirty and I was afraid to walk ba...</td>\n",
              "      <td>210</td>\n",
              "      <td>0.817947</td>\n",
              "      <td>Great location in nice surroundings the bar a...</td>\n",
              "      <td>26</td>\n",
              "      <td>1</td>\n",
              "      <td>3.8</td>\n",
              "      <td>[' Leisure trip ', ' Solo traveler ', ' Duplex...</td>\n",
              "      <td>3 days</td>\n",
              "      <td>52.360576</td>\n",
              "      <td>4.915968</td>\n",
              "      <td>Netherlands</td>\n",
              "      <td>Amsterdam</td>\n",
              "      <td>2.773537</td>\n",
              "    </tr>\n",
              "    <tr>\n",
              "      <th>4</th>\n",
              "      <td>s Gravesandestraat 55 Oost 1092 AA Amsterdam ...</td>\n",
              "      <td>194</td>\n",
              "      <td>7/24/2017</td>\n",
              "      <td>5.434783</td>\n",
              "      <td>Hotel Arena</td>\n",
              "      <td>New Zealand</td>\n",
              "      <td>You When I booked with your company on line y...</td>\n",
              "      <td>140</td>\n",
              "      <td>0.817947</td>\n",
              "      <td>Amazing location and building Romantic setting</td>\n",
              "      <td>8</td>\n",
              "      <td>3</td>\n",
              "      <td>6.7</td>\n",
              "      <td>[' Leisure trip ', ' Couple ', ' Suite ', ' St...</td>\n",
              "      <td>10 days</td>\n",
              "      <td>52.360576</td>\n",
              "      <td>4.915968</td>\n",
              "      <td>Netherlands</td>\n",
              "      <td>Amsterdam</td>\n",
              "      <td>3.435115</td>\n",
              "    </tr>\n",
              "  </tbody>\n",
              "</table>\n",
              "</div>\n",
              "      <button class=\"colab-df-convert\" onclick=\"convertToInteractive('df-41a4a4bb-5c7a-4474-8b05-8e11f762d63a')\"\n",
              "              title=\"Convert this dataframe to an interactive table.\"\n",
              "              style=\"display:none;\">\n",
              "        \n",
              "  <svg xmlns=\"http://www.w3.org/2000/svg\" height=\"24px\"viewBox=\"0 0 24 24\"\n",
              "       width=\"24px\">\n",
              "    <path d=\"M0 0h24v24H0V0z\" fill=\"none\"/>\n",
              "    <path d=\"M18.56 5.44l.94 2.06.94-2.06 2.06-.94-2.06-.94-.94-2.06-.94 2.06-2.06.94zm-11 1L8.5 8.5l.94-2.06 2.06-.94-2.06-.94L8.5 2.5l-.94 2.06-2.06.94zm10 10l.94 2.06.94-2.06 2.06-.94-2.06-.94-.94-2.06-.94 2.06-2.06.94z\"/><path d=\"M17.41 7.96l-1.37-1.37c-.4-.4-.92-.59-1.43-.59-.52 0-1.04.2-1.43.59L10.3 9.45l-7.72 7.72c-.78.78-.78 2.05 0 2.83L4 21.41c.39.39.9.59 1.41.59.51 0 1.02-.2 1.41-.59l7.78-7.78 2.81-2.81c.8-.78.8-2.07 0-2.86zM5.41 20L4 18.59l7.72-7.72 1.47 1.35L5.41 20z\"/>\n",
              "  </svg>\n",
              "      </button>\n",
              "      \n",
              "  <style>\n",
              "    .colab-df-container {\n",
              "      display:flex;\n",
              "      flex-wrap:wrap;\n",
              "      gap: 12px;\n",
              "    }\n",
              "\n",
              "    .colab-df-convert {\n",
              "      background-color: #E8F0FE;\n",
              "      border: none;\n",
              "      border-radius: 50%;\n",
              "      cursor: pointer;\n",
              "      display: none;\n",
              "      fill: #1967D2;\n",
              "      height: 32px;\n",
              "      padding: 0 0 0 0;\n",
              "      width: 32px;\n",
              "    }\n",
              "\n",
              "    .colab-df-convert:hover {\n",
              "      background-color: #E2EBFA;\n",
              "      box-shadow: 0px 1px 2px rgba(60, 64, 67, 0.3), 0px 1px 3px 1px rgba(60, 64, 67, 0.15);\n",
              "      fill: #174EA6;\n",
              "    }\n",
              "\n",
              "    [theme=dark] .colab-df-convert {\n",
              "      background-color: #3B4455;\n",
              "      fill: #D2E3FC;\n",
              "    }\n",
              "\n",
              "    [theme=dark] .colab-df-convert:hover {\n",
              "      background-color: #434B5C;\n",
              "      box-shadow: 0px 1px 3px 1px rgba(0, 0, 0, 0.15);\n",
              "      filter: drop-shadow(0px 1px 2px rgba(0, 0, 0, 0.3));\n",
              "      fill: #FFFFFF;\n",
              "    }\n",
              "  </style>\n",
              "\n",
              "      <script>\n",
              "        const buttonEl =\n",
              "          document.querySelector('#df-41a4a4bb-5c7a-4474-8b05-8e11f762d63a button.colab-df-convert');\n",
              "        buttonEl.style.display =\n",
              "          google.colab.kernel.accessAllowed ? 'block' : 'none';\n",
              "\n",
              "        async function convertToInteractive(key) {\n",
              "          const element = document.querySelector('#df-41a4a4bb-5c7a-4474-8b05-8e11f762d63a');\n",
              "          const dataTable =\n",
              "            await google.colab.kernel.invokeFunction('convertToInteractive',\n",
              "                                                     [key], {});\n",
              "          if (!dataTable) return;\n",
              "\n",
              "          const docLinkHtml = 'Like what you see? Visit the ' +\n",
              "            '<a target=\"_blank\" href=https://colab.research.google.com/notebooks/data_table.ipynb>data table notebook</a>'\n",
              "            + ' to learn more about interactive tables.';\n",
              "          element.innerHTML = '';\n",
              "          dataTable['output_type'] = 'display_data';\n",
              "          await google.colab.output.renderOutput(dataTable, element);\n",
              "          const docLink = document.createElement('div');\n",
              "          docLink.innerHTML = docLinkHtml;\n",
              "          element.appendChild(docLink);\n",
              "        }\n",
              "      </script>\n",
              "    </div>\n",
              "  </div>\n",
              "  "
            ]
          },
          "metadata": {},
          "execution_count": 23
        }
      ]
    },
    {
      "cell_type": "code",
      "source": [
        "df1[\"Tags\"]=df1[[\"Tags\"]].apply(convert,axis=1)"
      ],
      "metadata": {
        "id": "6XoGqWSTpsq7"
      },
      "execution_count": 24,
      "outputs": []
    },
    {
      "cell_type": "code",
      "source": [
        "cols=['Hotel_Name','country','city','Tags','review','Average_Score','Total_Number_of_Reviews']\n",
        "df2=df1[cols]\n",
        "df2.tail()"
      ],
      "metadata": {
        "colab": {
          "base_uri": "https://localhost:8080/",
          "height": 337
        },
        "id": "qjcis6CPpss9",
        "outputId": "472b5f8f-5076-4b65-fdf4-836bf5fc5ed9"
      },
      "execution_count": 25,
      "outputs": [
        {
          "output_type": "execute_result",
          "data": {
            "text/plain": [
              "                   Hotel_Name  country    city  \\\n",
              "515733  Atlantis Hotel Vienna  Austria  Vienna   \n",
              "515734  Atlantis Hotel Vienna  Austria  Vienna   \n",
              "515735  Atlantis Hotel Vienna  Austria  Vienna   \n",
              "515736  Atlantis Hotel Vienna  Austria  Vienna   \n",
              "515737  Atlantis Hotel Vienna  Austria  Vienna   \n",
              "\n",
              "                                                     Tags    review  \\\n",
              "515733   Leisure trip  Family with older children  2 r...  4.961832   \n",
              "515734   Leisure trip  Family with young children  Sta...  5.114504   \n",
              "515735   Leisure trip  Family with older children  2 r...  4.872774   \n",
              "515736   Leisure trip  Group  Standard Triple Room  St...  5.432570   \n",
              "515737   Leisure trip  Family with young children  2 r...  5.025445   \n",
              "\n",
              "        Average_Score  Total_Number_of_Reviews  \n",
              "515733       6.304348                 1.671979  \n",
              "515734       6.304348                 1.671979  \n",
              "515735       6.304348                 1.671979  \n",
              "515736       6.304348                 1.671979  \n",
              "515737       6.304348                 1.671979  "
            ],
            "text/html": [
              "\n",
              "  <div id=\"df-18c2fcd8-002d-46ce-85d1-5c94b0e705be\">\n",
              "    <div class=\"colab-df-container\">\n",
              "      <div>\n",
              "<style scoped>\n",
              "    .dataframe tbody tr th:only-of-type {\n",
              "        vertical-align: middle;\n",
              "    }\n",
              "\n",
              "    .dataframe tbody tr th {\n",
              "        vertical-align: top;\n",
              "    }\n",
              "\n",
              "    .dataframe thead th {\n",
              "        text-align: right;\n",
              "    }\n",
              "</style>\n",
              "<table border=\"1\" class=\"dataframe\">\n",
              "  <thead>\n",
              "    <tr style=\"text-align: right;\">\n",
              "      <th></th>\n",
              "      <th>Hotel_Name</th>\n",
              "      <th>country</th>\n",
              "      <th>city</th>\n",
              "      <th>Tags</th>\n",
              "      <th>review</th>\n",
              "      <th>Average_Score</th>\n",
              "      <th>Total_Number_of_Reviews</th>\n",
              "    </tr>\n",
              "  </thead>\n",
              "  <tbody>\n",
              "    <tr>\n",
              "      <th>515733</th>\n",
              "      <td>Atlantis Hotel Vienna</td>\n",
              "      <td>Austria</td>\n",
              "      <td>Vienna</td>\n",
              "      <td>Leisure trip  Family with older children  2 r...</td>\n",
              "      <td>4.961832</td>\n",
              "      <td>6.304348</td>\n",
              "      <td>1.671979</td>\n",
              "    </tr>\n",
              "    <tr>\n",
              "      <th>515734</th>\n",
              "      <td>Atlantis Hotel Vienna</td>\n",
              "      <td>Austria</td>\n",
              "      <td>Vienna</td>\n",
              "      <td>Leisure trip  Family with young children  Sta...</td>\n",
              "      <td>5.114504</td>\n",
              "      <td>6.304348</td>\n",
              "      <td>1.671979</td>\n",
              "    </tr>\n",
              "    <tr>\n",
              "      <th>515735</th>\n",
              "      <td>Atlantis Hotel Vienna</td>\n",
              "      <td>Austria</td>\n",
              "      <td>Vienna</td>\n",
              "      <td>Leisure trip  Family with older children  2 r...</td>\n",
              "      <td>4.872774</td>\n",
              "      <td>6.304348</td>\n",
              "      <td>1.671979</td>\n",
              "    </tr>\n",
              "    <tr>\n",
              "      <th>515736</th>\n",
              "      <td>Atlantis Hotel Vienna</td>\n",
              "      <td>Austria</td>\n",
              "      <td>Vienna</td>\n",
              "      <td>Leisure trip  Group  Standard Triple Room  St...</td>\n",
              "      <td>5.432570</td>\n",
              "      <td>6.304348</td>\n",
              "      <td>1.671979</td>\n",
              "    </tr>\n",
              "    <tr>\n",
              "      <th>515737</th>\n",
              "      <td>Atlantis Hotel Vienna</td>\n",
              "      <td>Austria</td>\n",
              "      <td>Vienna</td>\n",
              "      <td>Leisure trip  Family with young children  2 r...</td>\n",
              "      <td>5.025445</td>\n",
              "      <td>6.304348</td>\n",
              "      <td>1.671979</td>\n",
              "    </tr>\n",
              "  </tbody>\n",
              "</table>\n",
              "</div>\n",
              "      <button class=\"colab-df-convert\" onclick=\"convertToInteractive('df-18c2fcd8-002d-46ce-85d1-5c94b0e705be')\"\n",
              "              title=\"Convert this dataframe to an interactive table.\"\n",
              "              style=\"display:none;\">\n",
              "        \n",
              "  <svg xmlns=\"http://www.w3.org/2000/svg\" height=\"24px\"viewBox=\"0 0 24 24\"\n",
              "       width=\"24px\">\n",
              "    <path d=\"M0 0h24v24H0V0z\" fill=\"none\"/>\n",
              "    <path d=\"M18.56 5.44l.94 2.06.94-2.06 2.06-.94-2.06-.94-.94-2.06-.94 2.06-2.06.94zm-11 1L8.5 8.5l.94-2.06 2.06-.94-2.06-.94L8.5 2.5l-.94 2.06-2.06.94zm10 10l.94 2.06.94-2.06 2.06-.94-2.06-.94-.94-2.06-.94 2.06-2.06.94z\"/><path d=\"M17.41 7.96l-1.37-1.37c-.4-.4-.92-.59-1.43-.59-.52 0-1.04.2-1.43.59L10.3 9.45l-7.72 7.72c-.78.78-.78 2.05 0 2.83L4 21.41c.39.39.9.59 1.41.59.51 0 1.02-.2 1.41-.59l7.78-7.78 2.81-2.81c.8-.78.8-2.07 0-2.86zM5.41 20L4 18.59l7.72-7.72 1.47 1.35L5.41 20z\"/>\n",
              "  </svg>\n",
              "      </button>\n",
              "      \n",
              "  <style>\n",
              "    .colab-df-container {\n",
              "      display:flex;\n",
              "      flex-wrap:wrap;\n",
              "      gap: 12px;\n",
              "    }\n",
              "\n",
              "    .colab-df-convert {\n",
              "      background-color: #E8F0FE;\n",
              "      border: none;\n",
              "      border-radius: 50%;\n",
              "      cursor: pointer;\n",
              "      display: none;\n",
              "      fill: #1967D2;\n",
              "      height: 32px;\n",
              "      padding: 0 0 0 0;\n",
              "      width: 32px;\n",
              "    }\n",
              "\n",
              "    .colab-df-convert:hover {\n",
              "      background-color: #E2EBFA;\n",
              "      box-shadow: 0px 1px 2px rgba(60, 64, 67, 0.3), 0px 1px 3px 1px rgba(60, 64, 67, 0.15);\n",
              "      fill: #174EA6;\n",
              "    }\n",
              "\n",
              "    [theme=dark] .colab-df-convert {\n",
              "      background-color: #3B4455;\n",
              "      fill: #D2E3FC;\n",
              "    }\n",
              "\n",
              "    [theme=dark] .colab-df-convert:hover {\n",
              "      background-color: #434B5C;\n",
              "      box-shadow: 0px 1px 3px 1px rgba(0, 0, 0, 0.15);\n",
              "      filter: drop-shadow(0px 1px 2px rgba(0, 0, 0, 0.3));\n",
              "      fill: #FFFFFF;\n",
              "    }\n",
              "  </style>\n",
              "\n",
              "      <script>\n",
              "        const buttonEl =\n",
              "          document.querySelector('#df-18c2fcd8-002d-46ce-85d1-5c94b0e705be button.colab-df-convert');\n",
              "        buttonEl.style.display =\n",
              "          google.colab.kernel.accessAllowed ? 'block' : 'none';\n",
              "\n",
              "        async function convertToInteractive(key) {\n",
              "          const element = document.querySelector('#df-18c2fcd8-002d-46ce-85d1-5c94b0e705be');\n",
              "          const dataTable =\n",
              "            await google.colab.kernel.invokeFunction('convertToInteractive',\n",
              "                                                     [key], {});\n",
              "          if (!dataTable) return;\n",
              "\n",
              "          const docLinkHtml = 'Like what you see? Visit the ' +\n",
              "            '<a target=\"_blank\" href=https://colab.research.google.com/notebooks/data_table.ipynb>data table notebook</a>'\n",
              "            + ' to learn more about interactive tables.';\n",
              "          element.innerHTML = '';\n",
              "          dataTable['output_type'] = 'display_data';\n",
              "          await google.colab.output.renderOutput(dataTable, element);\n",
              "          const docLink = document.createElement('div');\n",
              "          docLink.innerHTML = docLinkHtml;\n",
              "          element.appendChild(docLink);\n",
              "        }\n",
              "      </script>\n",
              "    </div>\n",
              "  </div>\n",
              "  "
            ]
          },
          "metadata": {},
          "execution_count": 25
        }
      ]
    },
    {
      "cell_type": "code",
      "source": [
        "df2=df2.groupby(['Hotel_Name','country','city']).mean()"
      ],
      "metadata": {
        "id": "H0qQOZAmpsxC"
      },
      "execution_count": 26,
      "outputs": []
    },
    {
      "cell_type": "code",
      "source": [
        "df3=df1.groupby(['Hotel_Name','country','city'])['Tags'].apply(''.join).reset_index()"
      ],
      "metadata": {
        "id": "VWYvs25ZrLNI"
      },
      "execution_count": 27,
      "outputs": []
    },
    {
      "cell_type": "code",
      "source": [
        "df3.head()"
      ],
      "metadata": {
        "id": "oQ9fpkChUt0u",
        "colab": {
          "base_uri": "https://localhost:8080/",
          "height": 206
        },
        "outputId": "2f0330f6-4220-49fe-91ac-7fd1dac9457b"
      },
      "execution_count": 28,
      "outputs": [
        {
          "output_type": "execute_result",
          "data": {
            "text/plain": [
              "                           Hotel_Name  country    city  \\\n",
              "0                  11 Cadogan Gardens  Kingdom  United   \n",
              "1                            1K Hotel   France   Paris   \n",
              "2  25hours Hotel beim MuseumsQuartier  Austria  Vienna   \n",
              "3                                  41  Kingdom  United   \n",
              "4  45 Park Lane Dorchester Collection  Kingdom  United   \n",
              "\n",
              "                                                Tags  \n",
              "0   Leisure trip  Couple  Superior Queen Room  St...  \n",
              "1   Leisure trip  Couple  Superior M Double Room ...  \n",
              "2   Leisure trip  Solo traveler  Standard Double ...  \n",
              "3   Leisure trip  Couple  Executive King Room wit...  \n",
              "4   Leisure trip  Solo traveler  Executive Queen ...  "
            ],
            "text/html": [
              "\n",
              "  <div id=\"df-74510a9b-112e-4f34-bc89-9b34143beb69\">\n",
              "    <div class=\"colab-df-container\">\n",
              "      <div>\n",
              "<style scoped>\n",
              "    .dataframe tbody tr th:only-of-type {\n",
              "        vertical-align: middle;\n",
              "    }\n",
              "\n",
              "    .dataframe tbody tr th {\n",
              "        vertical-align: top;\n",
              "    }\n",
              "\n",
              "    .dataframe thead th {\n",
              "        text-align: right;\n",
              "    }\n",
              "</style>\n",
              "<table border=\"1\" class=\"dataframe\">\n",
              "  <thead>\n",
              "    <tr style=\"text-align: right;\">\n",
              "      <th></th>\n",
              "      <th>Hotel_Name</th>\n",
              "      <th>country</th>\n",
              "      <th>city</th>\n",
              "      <th>Tags</th>\n",
              "    </tr>\n",
              "  </thead>\n",
              "  <tbody>\n",
              "    <tr>\n",
              "      <th>0</th>\n",
              "      <td>11 Cadogan Gardens</td>\n",
              "      <td>Kingdom</td>\n",
              "      <td>United</td>\n",
              "      <td>Leisure trip  Couple  Superior Queen Room  St...</td>\n",
              "    </tr>\n",
              "    <tr>\n",
              "      <th>1</th>\n",
              "      <td>1K Hotel</td>\n",
              "      <td>France</td>\n",
              "      <td>Paris</td>\n",
              "      <td>Leisure trip  Couple  Superior M Double Room ...</td>\n",
              "    </tr>\n",
              "    <tr>\n",
              "      <th>2</th>\n",
              "      <td>25hours Hotel beim MuseumsQuartier</td>\n",
              "      <td>Austria</td>\n",
              "      <td>Vienna</td>\n",
              "      <td>Leisure trip  Solo traveler  Standard Double ...</td>\n",
              "    </tr>\n",
              "    <tr>\n",
              "      <th>3</th>\n",
              "      <td>41</td>\n",
              "      <td>Kingdom</td>\n",
              "      <td>United</td>\n",
              "      <td>Leisure trip  Couple  Executive King Room wit...</td>\n",
              "    </tr>\n",
              "    <tr>\n",
              "      <th>4</th>\n",
              "      <td>45 Park Lane Dorchester Collection</td>\n",
              "      <td>Kingdom</td>\n",
              "      <td>United</td>\n",
              "      <td>Leisure trip  Solo traveler  Executive Queen ...</td>\n",
              "    </tr>\n",
              "  </tbody>\n",
              "</table>\n",
              "</div>\n",
              "      <button class=\"colab-df-convert\" onclick=\"convertToInteractive('df-74510a9b-112e-4f34-bc89-9b34143beb69')\"\n",
              "              title=\"Convert this dataframe to an interactive table.\"\n",
              "              style=\"display:none;\">\n",
              "        \n",
              "  <svg xmlns=\"http://www.w3.org/2000/svg\" height=\"24px\"viewBox=\"0 0 24 24\"\n",
              "       width=\"24px\">\n",
              "    <path d=\"M0 0h24v24H0V0z\" fill=\"none\"/>\n",
              "    <path d=\"M18.56 5.44l.94 2.06.94-2.06 2.06-.94-2.06-.94-.94-2.06-.94 2.06-2.06.94zm-11 1L8.5 8.5l.94-2.06 2.06-.94-2.06-.94L8.5 2.5l-.94 2.06-2.06.94zm10 10l.94 2.06.94-2.06 2.06-.94-2.06-.94-.94-2.06-.94 2.06-2.06.94z\"/><path d=\"M17.41 7.96l-1.37-1.37c-.4-.4-.92-.59-1.43-.59-.52 0-1.04.2-1.43.59L10.3 9.45l-7.72 7.72c-.78.78-.78 2.05 0 2.83L4 21.41c.39.39.9.59 1.41.59.51 0 1.02-.2 1.41-.59l7.78-7.78 2.81-2.81c.8-.78.8-2.07 0-2.86zM5.41 20L4 18.59l7.72-7.72 1.47 1.35L5.41 20z\"/>\n",
              "  </svg>\n",
              "      </button>\n",
              "      \n",
              "  <style>\n",
              "    .colab-df-container {\n",
              "      display:flex;\n",
              "      flex-wrap:wrap;\n",
              "      gap: 12px;\n",
              "    }\n",
              "\n",
              "    .colab-df-convert {\n",
              "      background-color: #E8F0FE;\n",
              "      border: none;\n",
              "      border-radius: 50%;\n",
              "      cursor: pointer;\n",
              "      display: none;\n",
              "      fill: #1967D2;\n",
              "      height: 32px;\n",
              "      padding: 0 0 0 0;\n",
              "      width: 32px;\n",
              "    }\n",
              "\n",
              "    .colab-df-convert:hover {\n",
              "      background-color: #E2EBFA;\n",
              "      box-shadow: 0px 1px 2px rgba(60, 64, 67, 0.3), 0px 1px 3px 1px rgba(60, 64, 67, 0.15);\n",
              "      fill: #174EA6;\n",
              "    }\n",
              "\n",
              "    [theme=dark] .colab-df-convert {\n",
              "      background-color: #3B4455;\n",
              "      fill: #D2E3FC;\n",
              "    }\n",
              "\n",
              "    [theme=dark] .colab-df-convert:hover {\n",
              "      background-color: #434B5C;\n",
              "      box-shadow: 0px 1px 3px 1px rgba(0, 0, 0, 0.15);\n",
              "      filter: drop-shadow(0px 1px 2px rgba(0, 0, 0, 0.3));\n",
              "      fill: #FFFFFF;\n",
              "    }\n",
              "  </style>\n",
              "\n",
              "      <script>\n",
              "        const buttonEl =\n",
              "          document.querySelector('#df-74510a9b-112e-4f34-bc89-9b34143beb69 button.colab-df-convert');\n",
              "        buttonEl.style.display =\n",
              "          google.colab.kernel.accessAllowed ? 'block' : 'none';\n",
              "\n",
              "        async function convertToInteractive(key) {\n",
              "          const element = document.querySelector('#df-74510a9b-112e-4f34-bc89-9b34143beb69');\n",
              "          const dataTable =\n",
              "            await google.colab.kernel.invokeFunction('convertToInteractive',\n",
              "                                                     [key], {});\n",
              "          if (!dataTable) return;\n",
              "\n",
              "          const docLinkHtml = 'Like what you see? Visit the ' +\n",
              "            '<a target=\"_blank\" href=https://colab.research.google.com/notebooks/data_table.ipynb>data table notebook</a>'\n",
              "            + ' to learn more about interactive tables.';\n",
              "          element.innerHTML = '';\n",
              "          dataTable['output_type'] = 'display_data';\n",
              "          await google.colab.output.renderOutput(dataTable, element);\n",
              "          const docLink = document.createElement('div');\n",
              "          docLink.innerHTML = docLinkHtml;\n",
              "          element.appendChild(docLink);\n",
              "        }\n",
              "      </script>\n",
              "    </div>\n",
              "  </div>\n",
              "  "
            ]
          },
          "metadata": {},
          "execution_count": 28
        }
      ]
    },
    {
      "cell_type": "code",
      "source": [
        "data=pd.merge(df2,df3, on=['Hotel_Name','country','city'])"
      ],
      "metadata": {
        "id": "nkkkmNWHsWwi"
      },
      "execution_count": 29,
      "outputs": []
    },
    {
      "cell_type": "code",
      "source": [
        "columns=['Hotel_Name','country','city','review','Average_Score','Total_Number_of_Reviews','Tags']\n",
        "data=data[columns]"
      ],
      "metadata": {
        "id": "qS6j-VTB1ydD"
      },
      "execution_count": 30,
      "outputs": []
    },
    {
      "cell_type": "code",
      "source": [
        "data.Tags=data.Tags.apply(remove_duplicates)"
      ],
      "metadata": {
        "id": "ePX_ugNViBVu"
      },
      "execution_count": 31,
      "outputs": []
    },
    {
      "cell_type": "code",
      "source": [
        "data.head()"
      ],
      "metadata": {
        "colab": {
          "base_uri": "https://localhost:8080/",
          "height": 337
        },
        "id": "Q5oNhSPjymIk",
        "outputId": "406242c0-fe58-4f7d-adab-56262504759f"
      },
      "execution_count": 32,
      "outputs": [
        {
          "output_type": "execute_result",
          "data": {
            "text/plain": [
              "                           Hotel_Name  country    city    review  \\\n",
              "0                  11 Cadogan Gardens  Kingdom  United  5.171076   \n",
              "1                            1K Hotel   France   Paris  4.995788   \n",
              "2  25hours Hotel beim MuseumsQuartier  Austria  Vienna  5.187664   \n",
              "3                                  41  Kingdom  United  5.323378   \n",
              "4  45 Park Lane Dorchester Collection  Kingdom  United  5.175391   \n",
              "\n",
              "   Average_Score  Total_Number_of_Reviews  \\\n",
              "0       7.608696                 0.210501   \n",
              "1       5.434783                 0.372887   \n",
              "2       7.826087                 2.574728   \n",
              "3       9.565217                 0.120888   \n",
              "4       9.130435                 0.015036   \n",
              "\n",
              "                                                Tags  \n",
              "0   Leisure trip Couple Superior Queen Room Staye...  \n",
              "1   Leisure trip Couple Superior M Double Room St...  \n",
              "2   Leisure trip Solo traveler Standard Double Ro...  \n",
              "3   Leisure trip Couple Executive King Room with ...  \n",
              "4   Leisure trip Solo traveler Executive Queen Ro...  "
            ],
            "text/html": [
              "\n",
              "  <div id=\"df-37e89960-0941-463f-9f7a-33eb34d80dd5\">\n",
              "    <div class=\"colab-df-container\">\n",
              "      <div>\n",
              "<style scoped>\n",
              "    .dataframe tbody tr th:only-of-type {\n",
              "        vertical-align: middle;\n",
              "    }\n",
              "\n",
              "    .dataframe tbody tr th {\n",
              "        vertical-align: top;\n",
              "    }\n",
              "\n",
              "    .dataframe thead th {\n",
              "        text-align: right;\n",
              "    }\n",
              "</style>\n",
              "<table border=\"1\" class=\"dataframe\">\n",
              "  <thead>\n",
              "    <tr style=\"text-align: right;\">\n",
              "      <th></th>\n",
              "      <th>Hotel_Name</th>\n",
              "      <th>country</th>\n",
              "      <th>city</th>\n",
              "      <th>review</th>\n",
              "      <th>Average_Score</th>\n",
              "      <th>Total_Number_of_Reviews</th>\n",
              "      <th>Tags</th>\n",
              "    </tr>\n",
              "  </thead>\n",
              "  <tbody>\n",
              "    <tr>\n",
              "      <th>0</th>\n",
              "      <td>11 Cadogan Gardens</td>\n",
              "      <td>Kingdom</td>\n",
              "      <td>United</td>\n",
              "      <td>5.171076</td>\n",
              "      <td>7.608696</td>\n",
              "      <td>0.210501</td>\n",
              "      <td>Leisure trip Couple Superior Queen Room Staye...</td>\n",
              "    </tr>\n",
              "    <tr>\n",
              "      <th>1</th>\n",
              "      <td>1K Hotel</td>\n",
              "      <td>France</td>\n",
              "      <td>Paris</td>\n",
              "      <td>4.995788</td>\n",
              "      <td>5.434783</td>\n",
              "      <td>0.372887</td>\n",
              "      <td>Leisure trip Couple Superior M Double Room St...</td>\n",
              "    </tr>\n",
              "    <tr>\n",
              "      <th>2</th>\n",
              "      <td>25hours Hotel beim MuseumsQuartier</td>\n",
              "      <td>Austria</td>\n",
              "      <td>Vienna</td>\n",
              "      <td>5.187664</td>\n",
              "      <td>7.826087</td>\n",
              "      <td>2.574728</td>\n",
              "      <td>Leisure trip Solo traveler Standard Double Ro...</td>\n",
              "    </tr>\n",
              "    <tr>\n",
              "      <th>3</th>\n",
              "      <td>41</td>\n",
              "      <td>Kingdom</td>\n",
              "      <td>United</td>\n",
              "      <td>5.323378</td>\n",
              "      <td>9.565217</td>\n",
              "      <td>0.120888</td>\n",
              "      <td>Leisure trip Couple Executive King Room with ...</td>\n",
              "    </tr>\n",
              "    <tr>\n",
              "      <th>4</th>\n",
              "      <td>45 Park Lane Dorchester Collection</td>\n",
              "      <td>Kingdom</td>\n",
              "      <td>United</td>\n",
              "      <td>5.175391</td>\n",
              "      <td>9.130435</td>\n",
              "      <td>0.015036</td>\n",
              "      <td>Leisure trip Solo traveler Executive Queen Ro...</td>\n",
              "    </tr>\n",
              "  </tbody>\n",
              "</table>\n",
              "</div>\n",
              "      <button class=\"colab-df-convert\" onclick=\"convertToInteractive('df-37e89960-0941-463f-9f7a-33eb34d80dd5')\"\n",
              "              title=\"Convert this dataframe to an interactive table.\"\n",
              "              style=\"display:none;\">\n",
              "        \n",
              "  <svg xmlns=\"http://www.w3.org/2000/svg\" height=\"24px\"viewBox=\"0 0 24 24\"\n",
              "       width=\"24px\">\n",
              "    <path d=\"M0 0h24v24H0V0z\" fill=\"none\"/>\n",
              "    <path d=\"M18.56 5.44l.94 2.06.94-2.06 2.06-.94-2.06-.94-.94-2.06-.94 2.06-2.06.94zm-11 1L8.5 8.5l.94-2.06 2.06-.94-2.06-.94L8.5 2.5l-.94 2.06-2.06.94zm10 10l.94 2.06.94-2.06 2.06-.94-2.06-.94-.94-2.06-.94 2.06-2.06.94z\"/><path d=\"M17.41 7.96l-1.37-1.37c-.4-.4-.92-.59-1.43-.59-.52 0-1.04.2-1.43.59L10.3 9.45l-7.72 7.72c-.78.78-.78 2.05 0 2.83L4 21.41c.39.39.9.59 1.41.59.51 0 1.02-.2 1.41-.59l7.78-7.78 2.81-2.81c.8-.78.8-2.07 0-2.86zM5.41 20L4 18.59l7.72-7.72 1.47 1.35L5.41 20z\"/>\n",
              "  </svg>\n",
              "      </button>\n",
              "      \n",
              "  <style>\n",
              "    .colab-df-container {\n",
              "      display:flex;\n",
              "      flex-wrap:wrap;\n",
              "      gap: 12px;\n",
              "    }\n",
              "\n",
              "    .colab-df-convert {\n",
              "      background-color: #E8F0FE;\n",
              "      border: none;\n",
              "      border-radius: 50%;\n",
              "      cursor: pointer;\n",
              "      display: none;\n",
              "      fill: #1967D2;\n",
              "      height: 32px;\n",
              "      padding: 0 0 0 0;\n",
              "      width: 32px;\n",
              "    }\n",
              "\n",
              "    .colab-df-convert:hover {\n",
              "      background-color: #E2EBFA;\n",
              "      box-shadow: 0px 1px 2px rgba(60, 64, 67, 0.3), 0px 1px 3px 1px rgba(60, 64, 67, 0.15);\n",
              "      fill: #174EA6;\n",
              "    }\n",
              "\n",
              "    [theme=dark] .colab-df-convert {\n",
              "      background-color: #3B4455;\n",
              "      fill: #D2E3FC;\n",
              "    }\n",
              "\n",
              "    [theme=dark] .colab-df-convert:hover {\n",
              "      background-color: #434B5C;\n",
              "      box-shadow: 0px 1px 3px 1px rgba(0, 0, 0, 0.15);\n",
              "      filter: drop-shadow(0px 1px 2px rgba(0, 0, 0, 0.3));\n",
              "      fill: #FFFFFF;\n",
              "    }\n",
              "  </style>\n",
              "\n",
              "      <script>\n",
              "        const buttonEl =\n",
              "          document.querySelector('#df-37e89960-0941-463f-9f7a-33eb34d80dd5 button.colab-df-convert');\n",
              "        buttonEl.style.display =\n",
              "          google.colab.kernel.accessAllowed ? 'block' : 'none';\n",
              "\n",
              "        async function convertToInteractive(key) {\n",
              "          const element = document.querySelector('#df-37e89960-0941-463f-9f7a-33eb34d80dd5');\n",
              "          const dataTable =\n",
              "            await google.colab.kernel.invokeFunction('convertToInteractive',\n",
              "                                                     [key], {});\n",
              "          if (!dataTable) return;\n",
              "\n",
              "          const docLinkHtml = 'Like what you see? Visit the ' +\n",
              "            '<a target=\"_blank\" href=https://colab.research.google.com/notebooks/data_table.ipynb>data table notebook</a>'\n",
              "            + ' to learn more about interactive tables.';\n",
              "          element.innerHTML = '';\n",
              "          dataTable['output_type'] = 'display_data';\n",
              "          await google.colab.output.renderOutput(dataTable, element);\n",
              "          const docLink = document.createElement('div');\n",
              "          docLink.innerHTML = docLinkHtml;\n",
              "          element.appendChild(docLink);\n",
              "        }\n",
              "      </script>\n",
              "    </div>\n",
              "  </div>\n",
              "  "
            ]
          },
          "metadata": {},
          "execution_count": 32
        }
      ]
    },
    {
      "cell_type": "code",
      "source": [],
      "metadata": {
        "id": "hh_xxnVCukfy"
      },
      "execution_count": 32,
      "outputs": []
    },
    {
      "cell_type": "code",
      "source": [
        "data.head()"
      ],
      "metadata": {
        "id": "piZgPtNfuoTU",
        "colab": {
          "base_uri": "https://localhost:8080/",
          "height": 337
        },
        "outputId": "6819b4b1-275f-4854-ebc9-d6a34329e924"
      },
      "execution_count": 33,
      "outputs": [
        {
          "output_type": "execute_result",
          "data": {
            "text/plain": [
              "                           Hotel_Name  country    city    review  \\\n",
              "0                  11 Cadogan Gardens  Kingdom  United  5.171076   \n",
              "1                            1K Hotel   France   Paris  4.995788   \n",
              "2  25hours Hotel beim MuseumsQuartier  Austria  Vienna  5.187664   \n",
              "3                                  41  Kingdom  United  5.323378   \n",
              "4  45 Park Lane Dorchester Collection  Kingdom  United  5.175391   \n",
              "\n",
              "   Average_Score  Total_Number_of_Reviews  \\\n",
              "0       7.608696                 0.210501   \n",
              "1       5.434783                 0.372887   \n",
              "2       7.826087                 2.574728   \n",
              "3       9.565217                 0.120888   \n",
              "4       9.130435                 0.015036   \n",
              "\n",
              "                                                Tags  \n",
              "0   Leisure trip Couple Superior Queen Room Staye...  \n",
              "1   Leisure trip Couple Superior M Double Room St...  \n",
              "2   Leisure trip Solo traveler Standard Double Ro...  \n",
              "3   Leisure trip Couple Executive King Room with ...  \n",
              "4   Leisure trip Solo traveler Executive Queen Ro...  "
            ],
            "text/html": [
              "\n",
              "  <div id=\"df-7f070906-530b-4a34-90e0-d36f2ea5889c\">\n",
              "    <div class=\"colab-df-container\">\n",
              "      <div>\n",
              "<style scoped>\n",
              "    .dataframe tbody tr th:only-of-type {\n",
              "        vertical-align: middle;\n",
              "    }\n",
              "\n",
              "    .dataframe tbody tr th {\n",
              "        vertical-align: top;\n",
              "    }\n",
              "\n",
              "    .dataframe thead th {\n",
              "        text-align: right;\n",
              "    }\n",
              "</style>\n",
              "<table border=\"1\" class=\"dataframe\">\n",
              "  <thead>\n",
              "    <tr style=\"text-align: right;\">\n",
              "      <th></th>\n",
              "      <th>Hotel_Name</th>\n",
              "      <th>country</th>\n",
              "      <th>city</th>\n",
              "      <th>review</th>\n",
              "      <th>Average_Score</th>\n",
              "      <th>Total_Number_of_Reviews</th>\n",
              "      <th>Tags</th>\n",
              "    </tr>\n",
              "  </thead>\n",
              "  <tbody>\n",
              "    <tr>\n",
              "      <th>0</th>\n",
              "      <td>11 Cadogan Gardens</td>\n",
              "      <td>Kingdom</td>\n",
              "      <td>United</td>\n",
              "      <td>5.171076</td>\n",
              "      <td>7.608696</td>\n",
              "      <td>0.210501</td>\n",
              "      <td>Leisure trip Couple Superior Queen Room Staye...</td>\n",
              "    </tr>\n",
              "    <tr>\n",
              "      <th>1</th>\n",
              "      <td>1K Hotel</td>\n",
              "      <td>France</td>\n",
              "      <td>Paris</td>\n",
              "      <td>4.995788</td>\n",
              "      <td>5.434783</td>\n",
              "      <td>0.372887</td>\n",
              "      <td>Leisure trip Couple Superior M Double Room St...</td>\n",
              "    </tr>\n",
              "    <tr>\n",
              "      <th>2</th>\n",
              "      <td>25hours Hotel beim MuseumsQuartier</td>\n",
              "      <td>Austria</td>\n",
              "      <td>Vienna</td>\n",
              "      <td>5.187664</td>\n",
              "      <td>7.826087</td>\n",
              "      <td>2.574728</td>\n",
              "      <td>Leisure trip Solo traveler Standard Double Ro...</td>\n",
              "    </tr>\n",
              "    <tr>\n",
              "      <th>3</th>\n",
              "      <td>41</td>\n",
              "      <td>Kingdom</td>\n",
              "      <td>United</td>\n",
              "      <td>5.323378</td>\n",
              "      <td>9.565217</td>\n",
              "      <td>0.120888</td>\n",
              "      <td>Leisure trip Couple Executive King Room with ...</td>\n",
              "    </tr>\n",
              "    <tr>\n",
              "      <th>4</th>\n",
              "      <td>45 Park Lane Dorchester Collection</td>\n",
              "      <td>Kingdom</td>\n",
              "      <td>United</td>\n",
              "      <td>5.175391</td>\n",
              "      <td>9.130435</td>\n",
              "      <td>0.015036</td>\n",
              "      <td>Leisure trip Solo traveler Executive Queen Ro...</td>\n",
              "    </tr>\n",
              "  </tbody>\n",
              "</table>\n",
              "</div>\n",
              "      <button class=\"colab-df-convert\" onclick=\"convertToInteractive('df-7f070906-530b-4a34-90e0-d36f2ea5889c')\"\n",
              "              title=\"Convert this dataframe to an interactive table.\"\n",
              "              style=\"display:none;\">\n",
              "        \n",
              "  <svg xmlns=\"http://www.w3.org/2000/svg\" height=\"24px\"viewBox=\"0 0 24 24\"\n",
              "       width=\"24px\">\n",
              "    <path d=\"M0 0h24v24H0V0z\" fill=\"none\"/>\n",
              "    <path d=\"M18.56 5.44l.94 2.06.94-2.06 2.06-.94-2.06-.94-.94-2.06-.94 2.06-2.06.94zm-11 1L8.5 8.5l.94-2.06 2.06-.94-2.06-.94L8.5 2.5l-.94 2.06-2.06.94zm10 10l.94 2.06.94-2.06 2.06-.94-2.06-.94-.94-2.06-.94 2.06-2.06.94z\"/><path d=\"M17.41 7.96l-1.37-1.37c-.4-.4-.92-.59-1.43-.59-.52 0-1.04.2-1.43.59L10.3 9.45l-7.72 7.72c-.78.78-.78 2.05 0 2.83L4 21.41c.39.39.9.59 1.41.59.51 0 1.02-.2 1.41-.59l7.78-7.78 2.81-2.81c.8-.78.8-2.07 0-2.86zM5.41 20L4 18.59l7.72-7.72 1.47 1.35L5.41 20z\"/>\n",
              "  </svg>\n",
              "      </button>\n",
              "      \n",
              "  <style>\n",
              "    .colab-df-container {\n",
              "      display:flex;\n",
              "      flex-wrap:wrap;\n",
              "      gap: 12px;\n",
              "    }\n",
              "\n",
              "    .colab-df-convert {\n",
              "      background-color: #E8F0FE;\n",
              "      border: none;\n",
              "      border-radius: 50%;\n",
              "      cursor: pointer;\n",
              "      display: none;\n",
              "      fill: #1967D2;\n",
              "      height: 32px;\n",
              "      padding: 0 0 0 0;\n",
              "      width: 32px;\n",
              "    }\n",
              "\n",
              "    .colab-df-convert:hover {\n",
              "      background-color: #E2EBFA;\n",
              "      box-shadow: 0px 1px 2px rgba(60, 64, 67, 0.3), 0px 1px 3px 1px rgba(60, 64, 67, 0.15);\n",
              "      fill: #174EA6;\n",
              "    }\n",
              "\n",
              "    [theme=dark] .colab-df-convert {\n",
              "      background-color: #3B4455;\n",
              "      fill: #D2E3FC;\n",
              "    }\n",
              "\n",
              "    [theme=dark] .colab-df-convert:hover {\n",
              "      background-color: #434B5C;\n",
              "      box-shadow: 0px 1px 3px 1px rgba(0, 0, 0, 0.15);\n",
              "      filter: drop-shadow(0px 1px 2px rgba(0, 0, 0, 0.3));\n",
              "      fill: #FFFFFF;\n",
              "    }\n",
              "  </style>\n",
              "\n",
              "      <script>\n",
              "        const buttonEl =\n",
              "          document.querySelector('#df-7f070906-530b-4a34-90e0-d36f2ea5889c button.colab-df-convert');\n",
              "        buttonEl.style.display =\n",
              "          google.colab.kernel.accessAllowed ? 'block' : 'none';\n",
              "\n",
              "        async function convertToInteractive(key) {\n",
              "          const element = document.querySelector('#df-7f070906-530b-4a34-90e0-d36f2ea5889c');\n",
              "          const dataTable =\n",
              "            await google.colab.kernel.invokeFunction('convertToInteractive',\n",
              "                                                     [key], {});\n",
              "          if (!dataTable) return;\n",
              "\n",
              "          const docLinkHtml = 'Like what you see? Visit the ' +\n",
              "            '<a target=\"_blank\" href=https://colab.research.google.com/notebooks/data_table.ipynb>data table notebook</a>'\n",
              "            + ' to learn more about interactive tables.';\n",
              "          element.innerHTML = '';\n",
              "          dataTable['output_type'] = 'display_data';\n",
              "          await google.colab.output.renderOutput(dataTable, element);\n",
              "          const docLink = document.createElement('div');\n",
              "          docLink.innerHTML = docLinkHtml;\n",
              "          element.appendChild(docLink);\n",
              "        }\n",
              "      </script>\n",
              "    </div>\n",
              "  </div>\n",
              "  "
            ]
          },
          "metadata": {},
          "execution_count": 33
        }
      ]
    },
    {
      "cell_type": "code",
      "source": [
        "price_list=[10000,20000,30000,40000,50000]"
      ],
      "metadata": {
        "id": "qc1KQPj8j_01"
      },
      "execution_count": 34,
      "outputs": []
    },
    {
      "cell_type": "code",
      "source": [
        "contract_price=[]\n",
        "for i in range(len(data)):\n",
        "  num=random.choice(price_list)\n",
        "  contract_price.append(num)\n"
      ],
      "metadata": {
        "id": "kbq4va-Qmngn"
      },
      "execution_count": 35,
      "outputs": []
    },
    {
      "cell_type": "code",
      "source": [
        "data['Contract_Price']=contract_price"
      ],
      "metadata": {
        "id": "_dFLu6uam84V"
      },
      "execution_count": 36,
      "outputs": []
    },
    {
      "cell_type": "code",
      "source": [
        "data.head()"
      ],
      "metadata": {
        "colab": {
          "base_uri": "https://localhost:8080/",
          "height": 424
        },
        "id": "ehuXTqex4kp3",
        "outputId": "0a090153-1074-4412-f009-595847f76c41"
      },
      "execution_count": 37,
      "outputs": [
        {
          "output_type": "execute_result",
          "data": {
            "text/plain": [
              "                           Hotel_Name  country    city    review  \\\n",
              "0                  11 Cadogan Gardens  Kingdom  United  5.171076   \n",
              "1                            1K Hotel   France   Paris  4.995788   \n",
              "2  25hours Hotel beim MuseumsQuartier  Austria  Vienna  5.187664   \n",
              "3                                  41  Kingdom  United  5.323378   \n",
              "4  45 Park Lane Dorchester Collection  Kingdom  United  5.175391   \n",
              "\n",
              "   Average_Score  Total_Number_of_Reviews  \\\n",
              "0       7.608696                 0.210501   \n",
              "1       5.434783                 0.372887   \n",
              "2       7.826087                 2.574728   \n",
              "3       9.565217                 0.120888   \n",
              "4       9.130435                 0.015036   \n",
              "\n",
              "                                                Tags  Contract_Price  \n",
              "0   Leisure trip Couple Superior Queen Room Staye...           20000  \n",
              "1   Leisure trip Couple Superior M Double Room St...           20000  \n",
              "2   Leisure trip Solo traveler Standard Double Ro...           40000  \n",
              "3   Leisure trip Couple Executive King Room with ...           20000  \n",
              "4   Leisure trip Solo traveler Executive Queen Ro...           50000  "
            ],
            "text/html": [
              "\n",
              "  <div id=\"df-cb174d29-79c5-4c73-9074-f0db75e6c88f\">\n",
              "    <div class=\"colab-df-container\">\n",
              "      <div>\n",
              "<style scoped>\n",
              "    .dataframe tbody tr th:only-of-type {\n",
              "        vertical-align: middle;\n",
              "    }\n",
              "\n",
              "    .dataframe tbody tr th {\n",
              "        vertical-align: top;\n",
              "    }\n",
              "\n",
              "    .dataframe thead th {\n",
              "        text-align: right;\n",
              "    }\n",
              "</style>\n",
              "<table border=\"1\" class=\"dataframe\">\n",
              "  <thead>\n",
              "    <tr style=\"text-align: right;\">\n",
              "      <th></th>\n",
              "      <th>Hotel_Name</th>\n",
              "      <th>country</th>\n",
              "      <th>city</th>\n",
              "      <th>review</th>\n",
              "      <th>Average_Score</th>\n",
              "      <th>Total_Number_of_Reviews</th>\n",
              "      <th>Tags</th>\n",
              "      <th>Contract_Price</th>\n",
              "    </tr>\n",
              "  </thead>\n",
              "  <tbody>\n",
              "    <tr>\n",
              "      <th>0</th>\n",
              "      <td>11 Cadogan Gardens</td>\n",
              "      <td>Kingdom</td>\n",
              "      <td>United</td>\n",
              "      <td>5.171076</td>\n",
              "      <td>7.608696</td>\n",
              "      <td>0.210501</td>\n",
              "      <td>Leisure trip Couple Superior Queen Room Staye...</td>\n",
              "      <td>20000</td>\n",
              "    </tr>\n",
              "    <tr>\n",
              "      <th>1</th>\n",
              "      <td>1K Hotel</td>\n",
              "      <td>France</td>\n",
              "      <td>Paris</td>\n",
              "      <td>4.995788</td>\n",
              "      <td>5.434783</td>\n",
              "      <td>0.372887</td>\n",
              "      <td>Leisure trip Couple Superior M Double Room St...</td>\n",
              "      <td>20000</td>\n",
              "    </tr>\n",
              "    <tr>\n",
              "      <th>2</th>\n",
              "      <td>25hours Hotel beim MuseumsQuartier</td>\n",
              "      <td>Austria</td>\n",
              "      <td>Vienna</td>\n",
              "      <td>5.187664</td>\n",
              "      <td>7.826087</td>\n",
              "      <td>2.574728</td>\n",
              "      <td>Leisure trip Solo traveler Standard Double Ro...</td>\n",
              "      <td>40000</td>\n",
              "    </tr>\n",
              "    <tr>\n",
              "      <th>3</th>\n",
              "      <td>41</td>\n",
              "      <td>Kingdom</td>\n",
              "      <td>United</td>\n",
              "      <td>5.323378</td>\n",
              "      <td>9.565217</td>\n",
              "      <td>0.120888</td>\n",
              "      <td>Leisure trip Couple Executive King Room with ...</td>\n",
              "      <td>20000</td>\n",
              "    </tr>\n",
              "    <tr>\n",
              "      <th>4</th>\n",
              "      <td>45 Park Lane Dorchester Collection</td>\n",
              "      <td>Kingdom</td>\n",
              "      <td>United</td>\n",
              "      <td>5.175391</td>\n",
              "      <td>9.130435</td>\n",
              "      <td>0.015036</td>\n",
              "      <td>Leisure trip Solo traveler Executive Queen Ro...</td>\n",
              "      <td>50000</td>\n",
              "    </tr>\n",
              "  </tbody>\n",
              "</table>\n",
              "</div>\n",
              "      <button class=\"colab-df-convert\" onclick=\"convertToInteractive('df-cb174d29-79c5-4c73-9074-f0db75e6c88f')\"\n",
              "              title=\"Convert this dataframe to an interactive table.\"\n",
              "              style=\"display:none;\">\n",
              "        \n",
              "  <svg xmlns=\"http://www.w3.org/2000/svg\" height=\"24px\"viewBox=\"0 0 24 24\"\n",
              "       width=\"24px\">\n",
              "    <path d=\"M0 0h24v24H0V0z\" fill=\"none\"/>\n",
              "    <path d=\"M18.56 5.44l.94 2.06.94-2.06 2.06-.94-2.06-.94-.94-2.06-.94 2.06-2.06.94zm-11 1L8.5 8.5l.94-2.06 2.06-.94-2.06-.94L8.5 2.5l-.94 2.06-2.06.94zm10 10l.94 2.06.94-2.06 2.06-.94-2.06-.94-.94-2.06-.94 2.06-2.06.94z\"/><path d=\"M17.41 7.96l-1.37-1.37c-.4-.4-.92-.59-1.43-.59-.52 0-1.04.2-1.43.59L10.3 9.45l-7.72 7.72c-.78.78-.78 2.05 0 2.83L4 21.41c.39.39.9.59 1.41.59.51 0 1.02-.2 1.41-.59l7.78-7.78 2.81-2.81c.8-.78.8-2.07 0-2.86zM5.41 20L4 18.59l7.72-7.72 1.47 1.35L5.41 20z\"/>\n",
              "  </svg>\n",
              "      </button>\n",
              "      \n",
              "  <style>\n",
              "    .colab-df-container {\n",
              "      display:flex;\n",
              "      flex-wrap:wrap;\n",
              "      gap: 12px;\n",
              "    }\n",
              "\n",
              "    .colab-df-convert {\n",
              "      background-color: #E8F0FE;\n",
              "      border: none;\n",
              "      border-radius: 50%;\n",
              "      cursor: pointer;\n",
              "      display: none;\n",
              "      fill: #1967D2;\n",
              "      height: 32px;\n",
              "      padding: 0 0 0 0;\n",
              "      width: 32px;\n",
              "    }\n",
              "\n",
              "    .colab-df-convert:hover {\n",
              "      background-color: #E2EBFA;\n",
              "      box-shadow: 0px 1px 2px rgba(60, 64, 67, 0.3), 0px 1px 3px 1px rgba(60, 64, 67, 0.15);\n",
              "      fill: #174EA6;\n",
              "    }\n",
              "\n",
              "    [theme=dark] .colab-df-convert {\n",
              "      background-color: #3B4455;\n",
              "      fill: #D2E3FC;\n",
              "    }\n",
              "\n",
              "    [theme=dark] .colab-df-convert:hover {\n",
              "      background-color: #434B5C;\n",
              "      box-shadow: 0px 1px 3px 1px rgba(0, 0, 0, 0.15);\n",
              "      filter: drop-shadow(0px 1px 2px rgba(0, 0, 0, 0.3));\n",
              "      fill: #FFFFFF;\n",
              "    }\n",
              "  </style>\n",
              "\n",
              "      <script>\n",
              "        const buttonEl =\n",
              "          document.querySelector('#df-cb174d29-79c5-4c73-9074-f0db75e6c88f button.colab-df-convert');\n",
              "        buttonEl.style.display =\n",
              "          google.colab.kernel.accessAllowed ? 'block' : 'none';\n",
              "\n",
              "        async function convertToInteractive(key) {\n",
              "          const element = document.querySelector('#df-cb174d29-79c5-4c73-9074-f0db75e6c88f');\n",
              "          const dataTable =\n",
              "            await google.colab.kernel.invokeFunction('convertToInteractive',\n",
              "                                                     [key], {});\n",
              "          if (!dataTable) return;\n",
              "\n",
              "          const docLinkHtml = 'Like what you see? Visit the ' +\n",
              "            '<a target=\"_blank\" href=https://colab.research.google.com/notebooks/data_table.ipynb>data table notebook</a>'\n",
              "            + ' to learn more about interactive tables.';\n",
              "          element.innerHTML = '';\n",
              "          dataTable['output_type'] = 'display_data';\n",
              "          await google.colab.output.renderOutput(dataTable, element);\n",
              "          const docLink = document.createElement('div');\n",
              "          docLink.innerHTML = docLinkHtml;\n",
              "          element.appendChild(docLink);\n",
              "        }\n",
              "      </script>\n",
              "    </div>\n",
              "  </div>\n",
              "  "
            ]
          },
          "metadata": {},
          "execution_count": 37
        }
      ]
    },
    {
      "cell_type": "code",
      "source": [
        "mycols=['Hotel_Name','country','city','review','Average_Score','Total_Number_of_Reviews','Tags','Contract_Price']\n",
        "data=data[mycols]"
      ],
      "metadata": {
        "id": "jMSRuVYQnGIa"
      },
      "execution_count": 38,
      "outputs": []
    },
    {
      "cell_type": "code",
      "source": [
        "data.head()"
      ],
      "metadata": {
        "id": "60aWauKkmftQ",
        "colab": {
          "base_uri": "https://localhost:8080/",
          "height": 424
        },
        "outputId": "98caa4ee-a7ef-4860-9a26-50b702b045da"
      },
      "execution_count": 39,
      "outputs": [
        {
          "output_type": "execute_result",
          "data": {
            "text/plain": [
              "                           Hotel_Name  country    city    review  \\\n",
              "0                  11 Cadogan Gardens  Kingdom  United  5.171076   \n",
              "1                            1K Hotel   France   Paris  4.995788   \n",
              "2  25hours Hotel beim MuseumsQuartier  Austria  Vienna  5.187664   \n",
              "3                                  41  Kingdom  United  5.323378   \n",
              "4  45 Park Lane Dorchester Collection  Kingdom  United  5.175391   \n",
              "\n",
              "   Average_Score  Total_Number_of_Reviews  \\\n",
              "0       7.608696                 0.210501   \n",
              "1       5.434783                 0.372887   \n",
              "2       7.826087                 2.574728   \n",
              "3       9.565217                 0.120888   \n",
              "4       9.130435                 0.015036   \n",
              "\n",
              "                                                Tags  Contract_Price  \n",
              "0   Leisure trip Couple Superior Queen Room Staye...           20000  \n",
              "1   Leisure trip Couple Superior M Double Room St...           20000  \n",
              "2   Leisure trip Solo traveler Standard Double Ro...           40000  \n",
              "3   Leisure trip Couple Executive King Room with ...           20000  \n",
              "4   Leisure trip Solo traveler Executive Queen Ro...           50000  "
            ],
            "text/html": [
              "\n",
              "  <div id=\"df-0ffd4f93-b5f0-4a77-9b95-93679d4e4db4\">\n",
              "    <div class=\"colab-df-container\">\n",
              "      <div>\n",
              "<style scoped>\n",
              "    .dataframe tbody tr th:only-of-type {\n",
              "        vertical-align: middle;\n",
              "    }\n",
              "\n",
              "    .dataframe tbody tr th {\n",
              "        vertical-align: top;\n",
              "    }\n",
              "\n",
              "    .dataframe thead th {\n",
              "        text-align: right;\n",
              "    }\n",
              "</style>\n",
              "<table border=\"1\" class=\"dataframe\">\n",
              "  <thead>\n",
              "    <tr style=\"text-align: right;\">\n",
              "      <th></th>\n",
              "      <th>Hotel_Name</th>\n",
              "      <th>country</th>\n",
              "      <th>city</th>\n",
              "      <th>review</th>\n",
              "      <th>Average_Score</th>\n",
              "      <th>Total_Number_of_Reviews</th>\n",
              "      <th>Tags</th>\n",
              "      <th>Contract_Price</th>\n",
              "    </tr>\n",
              "  </thead>\n",
              "  <tbody>\n",
              "    <tr>\n",
              "      <th>0</th>\n",
              "      <td>11 Cadogan Gardens</td>\n",
              "      <td>Kingdom</td>\n",
              "      <td>United</td>\n",
              "      <td>5.171076</td>\n",
              "      <td>7.608696</td>\n",
              "      <td>0.210501</td>\n",
              "      <td>Leisure trip Couple Superior Queen Room Staye...</td>\n",
              "      <td>20000</td>\n",
              "    </tr>\n",
              "    <tr>\n",
              "      <th>1</th>\n",
              "      <td>1K Hotel</td>\n",
              "      <td>France</td>\n",
              "      <td>Paris</td>\n",
              "      <td>4.995788</td>\n",
              "      <td>5.434783</td>\n",
              "      <td>0.372887</td>\n",
              "      <td>Leisure trip Couple Superior M Double Room St...</td>\n",
              "      <td>20000</td>\n",
              "    </tr>\n",
              "    <tr>\n",
              "      <th>2</th>\n",
              "      <td>25hours Hotel beim MuseumsQuartier</td>\n",
              "      <td>Austria</td>\n",
              "      <td>Vienna</td>\n",
              "      <td>5.187664</td>\n",
              "      <td>7.826087</td>\n",
              "      <td>2.574728</td>\n",
              "      <td>Leisure trip Solo traveler Standard Double Ro...</td>\n",
              "      <td>40000</td>\n",
              "    </tr>\n",
              "    <tr>\n",
              "      <th>3</th>\n",
              "      <td>41</td>\n",
              "      <td>Kingdom</td>\n",
              "      <td>United</td>\n",
              "      <td>5.323378</td>\n",
              "      <td>9.565217</td>\n",
              "      <td>0.120888</td>\n",
              "      <td>Leisure trip Couple Executive King Room with ...</td>\n",
              "      <td>20000</td>\n",
              "    </tr>\n",
              "    <tr>\n",
              "      <th>4</th>\n",
              "      <td>45 Park Lane Dorchester Collection</td>\n",
              "      <td>Kingdom</td>\n",
              "      <td>United</td>\n",
              "      <td>5.175391</td>\n",
              "      <td>9.130435</td>\n",
              "      <td>0.015036</td>\n",
              "      <td>Leisure trip Solo traveler Executive Queen Ro...</td>\n",
              "      <td>50000</td>\n",
              "    </tr>\n",
              "  </tbody>\n",
              "</table>\n",
              "</div>\n",
              "      <button class=\"colab-df-convert\" onclick=\"convertToInteractive('df-0ffd4f93-b5f0-4a77-9b95-93679d4e4db4')\"\n",
              "              title=\"Convert this dataframe to an interactive table.\"\n",
              "              style=\"display:none;\">\n",
              "        \n",
              "  <svg xmlns=\"http://www.w3.org/2000/svg\" height=\"24px\"viewBox=\"0 0 24 24\"\n",
              "       width=\"24px\">\n",
              "    <path d=\"M0 0h24v24H0V0z\" fill=\"none\"/>\n",
              "    <path d=\"M18.56 5.44l.94 2.06.94-2.06 2.06-.94-2.06-.94-.94-2.06-.94 2.06-2.06.94zm-11 1L8.5 8.5l.94-2.06 2.06-.94-2.06-.94L8.5 2.5l-.94 2.06-2.06.94zm10 10l.94 2.06.94-2.06 2.06-.94-2.06-.94-.94-2.06-.94 2.06-2.06.94z\"/><path d=\"M17.41 7.96l-1.37-1.37c-.4-.4-.92-.59-1.43-.59-.52 0-1.04.2-1.43.59L10.3 9.45l-7.72 7.72c-.78.78-.78 2.05 0 2.83L4 21.41c.39.39.9.59 1.41.59.51 0 1.02-.2 1.41-.59l7.78-7.78 2.81-2.81c.8-.78.8-2.07 0-2.86zM5.41 20L4 18.59l7.72-7.72 1.47 1.35L5.41 20z\"/>\n",
              "  </svg>\n",
              "      </button>\n",
              "      \n",
              "  <style>\n",
              "    .colab-df-container {\n",
              "      display:flex;\n",
              "      flex-wrap:wrap;\n",
              "      gap: 12px;\n",
              "    }\n",
              "\n",
              "    .colab-df-convert {\n",
              "      background-color: #E8F0FE;\n",
              "      border: none;\n",
              "      border-radius: 50%;\n",
              "      cursor: pointer;\n",
              "      display: none;\n",
              "      fill: #1967D2;\n",
              "      height: 32px;\n",
              "      padding: 0 0 0 0;\n",
              "      width: 32px;\n",
              "    }\n",
              "\n",
              "    .colab-df-convert:hover {\n",
              "      background-color: #E2EBFA;\n",
              "      box-shadow: 0px 1px 2px rgba(60, 64, 67, 0.3), 0px 1px 3px 1px rgba(60, 64, 67, 0.15);\n",
              "      fill: #174EA6;\n",
              "    }\n",
              "\n",
              "    [theme=dark] .colab-df-convert {\n",
              "      background-color: #3B4455;\n",
              "      fill: #D2E3FC;\n",
              "    }\n",
              "\n",
              "    [theme=dark] .colab-df-convert:hover {\n",
              "      background-color: #434B5C;\n",
              "      box-shadow: 0px 1px 3px 1px rgba(0, 0, 0, 0.15);\n",
              "      filter: drop-shadow(0px 1px 2px rgba(0, 0, 0, 0.3));\n",
              "      fill: #FFFFFF;\n",
              "    }\n",
              "  </style>\n",
              "\n",
              "      <script>\n",
              "        const buttonEl =\n",
              "          document.querySelector('#df-0ffd4f93-b5f0-4a77-9b95-93679d4e4db4 button.colab-df-convert');\n",
              "        buttonEl.style.display =\n",
              "          google.colab.kernel.accessAllowed ? 'block' : 'none';\n",
              "\n",
              "        async function convertToInteractive(key) {\n",
              "          const element = document.querySelector('#df-0ffd4f93-b5f0-4a77-9b95-93679d4e4db4');\n",
              "          const dataTable =\n",
              "            await google.colab.kernel.invokeFunction('convertToInteractive',\n",
              "                                                     [key], {});\n",
              "          if (!dataTable) return;\n",
              "\n",
              "          const docLinkHtml = 'Like what you see? Visit the ' +\n",
              "            '<a target=\"_blank\" href=https://colab.research.google.com/notebooks/data_table.ipynb>data table notebook</a>'\n",
              "            + ' to learn more about interactive tables.';\n",
              "          element.innerHTML = '';\n",
              "          dataTable['output_type'] = 'display_data';\n",
              "          await google.colab.output.renderOutput(dataTable, element);\n",
              "          const docLink = document.createElement('div');\n",
              "          docLink.innerHTML = docLinkHtml;\n",
              "          element.appendChild(docLink);\n",
              "        }\n",
              "      </script>\n",
              "    </div>\n",
              "  </div>\n",
              "  "
            ]
          },
          "metadata": {},
          "execution_count": 39
        }
      ]
    },
    {
      "cell_type": "markdown",
      "source": [
        "##Visualizing"
      ],
      "metadata": {
        "id": "DQZHVZCRFPCE"
      }
    },
    {
      "cell_type": "markdown",
      "source": [
        "###KMeans-Elbow Method"
      ],
      "metadata": {
        "id": "45wo3wows3AK"
      }
    },
    {
      "cell_type": "code",
      "source": [
        "colls=['Average_Score','Total_Number_of_Reviews']"
      ],
      "metadata": {
        "id": "54pzN60IsbZO"
      },
      "execution_count": 40,
      "outputs": []
    },
    {
      "cell_type": "code",
      "source": [
        "kmeans_data=data[colls]"
      ],
      "metadata": {
        "id": "nR2mbHTUr3Eq"
      },
      "execution_count": 41,
      "outputs": []
    },
    {
      "cell_type": "code",
      "source": [
        "inertias=[]\n",
        "silhouettes=[]\n",
        "r1=[1,2,3,4,5,6,7,8,9,10]\n",
        "for i in r1:\n",
        "   km = KMeans(n_clusters=i,random_state=1)\n",
        "   km.fit(kmeans_data)\n",
        "   clusters = km.fit_predict(kmeans_data)\n",
        "   inertias.append(km.inertia_)\n",
        "  # silhouettes.append(silhouette_score(kmeans_data,clusters))"
      ],
      "metadata": {
        "id": "j5_YFtkSnB4T",
        "colab": {
          "base_uri": "https://localhost:8080/"
        },
        "outputId": "c976a238-0f89-4ea9-c31d-23a895b2d807"
      },
      "execution_count": 42,
      "outputs": [
        {
          "output_type": "stream",
          "name": "stderr",
          "text": [
            "/usr/local/lib/python3.9/dist-packages/sklearn/cluster/_kmeans.py:870: FutureWarning: The default value of `n_init` will change from 10 to 'auto' in 1.4. Set the value of `n_init` explicitly to suppress the warning\n",
            "  warnings.warn(\n",
            "/usr/local/lib/python3.9/dist-packages/sklearn/cluster/_kmeans.py:870: FutureWarning: The default value of `n_init` will change from 10 to 'auto' in 1.4. Set the value of `n_init` explicitly to suppress the warning\n",
            "  warnings.warn(\n",
            "/usr/local/lib/python3.9/dist-packages/sklearn/cluster/_kmeans.py:870: FutureWarning: The default value of `n_init` will change from 10 to 'auto' in 1.4. Set the value of `n_init` explicitly to suppress the warning\n",
            "  warnings.warn(\n",
            "/usr/local/lib/python3.9/dist-packages/sklearn/cluster/_kmeans.py:870: FutureWarning: The default value of `n_init` will change from 10 to 'auto' in 1.4. Set the value of `n_init` explicitly to suppress the warning\n",
            "  warnings.warn(\n",
            "/usr/local/lib/python3.9/dist-packages/sklearn/cluster/_kmeans.py:870: FutureWarning: The default value of `n_init` will change from 10 to 'auto' in 1.4. Set the value of `n_init` explicitly to suppress the warning\n",
            "  warnings.warn(\n",
            "/usr/local/lib/python3.9/dist-packages/sklearn/cluster/_kmeans.py:870: FutureWarning: The default value of `n_init` will change from 10 to 'auto' in 1.4. Set the value of `n_init` explicitly to suppress the warning\n",
            "  warnings.warn(\n",
            "/usr/local/lib/python3.9/dist-packages/sklearn/cluster/_kmeans.py:870: FutureWarning: The default value of `n_init` will change from 10 to 'auto' in 1.4. Set the value of `n_init` explicitly to suppress the warning\n",
            "  warnings.warn(\n",
            "/usr/local/lib/python3.9/dist-packages/sklearn/cluster/_kmeans.py:870: FutureWarning: The default value of `n_init` will change from 10 to 'auto' in 1.4. Set the value of `n_init` explicitly to suppress the warning\n",
            "  warnings.warn(\n",
            "/usr/local/lib/python3.9/dist-packages/sklearn/cluster/_kmeans.py:870: FutureWarning: The default value of `n_init` will change from 10 to 'auto' in 1.4. Set the value of `n_init` explicitly to suppress the warning\n",
            "  warnings.warn(\n",
            "/usr/local/lib/python3.9/dist-packages/sklearn/cluster/_kmeans.py:870: FutureWarning: The default value of `n_init` will change from 10 to 'auto' in 1.4. Set the value of `n_init` explicitly to suppress the warning\n",
            "  warnings.warn(\n",
            "/usr/local/lib/python3.9/dist-packages/sklearn/cluster/_kmeans.py:870: FutureWarning: The default value of `n_init` will change from 10 to 'auto' in 1.4. Set the value of `n_init` explicitly to suppress the warning\n",
            "  warnings.warn(\n",
            "/usr/local/lib/python3.9/dist-packages/sklearn/cluster/_kmeans.py:870: FutureWarning: The default value of `n_init` will change from 10 to 'auto' in 1.4. Set the value of `n_init` explicitly to suppress the warning\n",
            "  warnings.warn(\n",
            "/usr/local/lib/python3.9/dist-packages/sklearn/cluster/_kmeans.py:870: FutureWarning: The default value of `n_init` will change from 10 to 'auto' in 1.4. Set the value of `n_init` explicitly to suppress the warning\n",
            "  warnings.warn(\n",
            "/usr/local/lib/python3.9/dist-packages/sklearn/cluster/_kmeans.py:870: FutureWarning: The default value of `n_init` will change from 10 to 'auto' in 1.4. Set the value of `n_init` explicitly to suppress the warning\n",
            "  warnings.warn(\n",
            "/usr/local/lib/python3.9/dist-packages/sklearn/cluster/_kmeans.py:870: FutureWarning: The default value of `n_init` will change from 10 to 'auto' in 1.4. Set the value of `n_init` explicitly to suppress the warning\n",
            "  warnings.warn(\n",
            "/usr/local/lib/python3.9/dist-packages/sklearn/cluster/_kmeans.py:870: FutureWarning: The default value of `n_init` will change from 10 to 'auto' in 1.4. Set the value of `n_init` explicitly to suppress the warning\n",
            "  warnings.warn(\n",
            "/usr/local/lib/python3.9/dist-packages/sklearn/cluster/_kmeans.py:870: FutureWarning: The default value of `n_init` will change from 10 to 'auto' in 1.4. Set the value of `n_init` explicitly to suppress the warning\n",
            "  warnings.warn(\n",
            "/usr/local/lib/python3.9/dist-packages/sklearn/cluster/_kmeans.py:870: FutureWarning: The default value of `n_init` will change from 10 to 'auto' in 1.4. Set the value of `n_init` explicitly to suppress the warning\n",
            "  warnings.warn(\n",
            "/usr/local/lib/python3.9/dist-packages/sklearn/cluster/_kmeans.py:870: FutureWarning: The default value of `n_init` will change from 10 to 'auto' in 1.4. Set the value of `n_init` explicitly to suppress the warning\n",
            "  warnings.warn(\n",
            "/usr/local/lib/python3.9/dist-packages/sklearn/cluster/_kmeans.py:870: FutureWarning: The default value of `n_init` will change from 10 to 'auto' in 1.4. Set the value of `n_init` explicitly to suppress the warning\n",
            "  warnings.warn(\n"
          ]
        }
      ]
    },
    {
      "cell_type": "code",
      "source": [
        "plt.plot(r1, inertias, color='k', marker='*')\n",
        "plt.title('Elbow Method Analysis')\n",
        "plt.show()"
      ],
      "metadata": {
        "id": "0eBN9VlRoJwv",
        "colab": {
          "base_uri": "https://localhost:8080/",
          "height": 281
        },
        "outputId": "d01b0970-a683-43ee-c692-09683374aa2e"
      },
      "execution_count": 43,
      "outputs": [
        {
          "output_type": "display_data",
          "data": {
            "text/plain": [
              "<Figure size 432x288 with 1 Axes>"
            ],
            "image/png": "[encoded data removed]"
          },
          "metadata": {
            "needs_background": "light"
          }
        }
      ]
    },
    {
      "cell_type": "markdown",
      "source": [
        "###KMeans_Silhouette Method"
      ],
      "metadata": {
        "id": "75gsrpzX9rp9"
      }
    },
    {
      "cell_type": "code",
      "source": [
        "inertias=[]\n",
        "silhouettes=[]\n",
        "r2=[2,3,4,5,6,7,8,9,10]\n",
        "for i in r2:\n",
        "   km = KMeans(n_clusters=i,random_state=1)\n",
        "   km.fit(kmeans_data)\n",
        "   clusters = km.fit_predict(kmeans_data)\n",
        "   inertias.append(km.inertia_)\n",
        "   silhouettes.append(silhouette_score(kmeans_data,clusters))"
      ],
      "metadata": {
        "id": "jCDNllV2gjqj",
        "colab": {
          "base_uri": "https://localhost:8080/"
        },
        "outputId": "5ac2cc46-cd3a-43b6-c56d-4843f05ad473"
      },
      "execution_count": 44,
      "outputs": [
        {
          "output_type": "stream",
          "name": "stderr",
          "text": [
            "/usr/local/lib/python3.9/dist-packages/sklearn/cluster/_kmeans.py:870: FutureWarning: The default value of `n_init` will change from 10 to 'auto' in 1.4. Set the value of `n_init` explicitly to suppress the warning\n",
            "  warnings.warn(\n",
            "/usr/local/lib/python3.9/dist-packages/sklearn/cluster/_kmeans.py:870: FutureWarning: The default value of `n_init` will change from 10 to 'auto' in 1.4. Set the value of `n_init` explicitly to suppress the warning\n",
            "  warnings.warn(\n",
            "/usr/local/lib/python3.9/dist-packages/sklearn/cluster/_kmeans.py:870: FutureWarning: The default value of `n_init` will change from 10 to 'auto' in 1.4. Set the value of `n_init` explicitly to suppress the warning\n",
            "  warnings.warn(\n",
            "/usr/local/lib/python3.9/dist-packages/sklearn/cluster/_kmeans.py:870: FutureWarning: The default value of `n_init` will change from 10 to 'auto' in 1.4. Set the value of `n_init` explicitly to suppress the warning\n",
            "  warnings.warn(\n",
            "/usr/local/lib/python3.9/dist-packages/sklearn/cluster/_kmeans.py:870: FutureWarning: The default value of `n_init` will change from 10 to 'auto' in 1.4. Set the value of `n_init` explicitly to suppress the warning\n",
            "  warnings.warn(\n",
            "/usr/local/lib/python3.9/dist-packages/sklearn/cluster/_kmeans.py:870: FutureWarning: The default value of `n_init` will change from 10 to 'auto' in 1.4. Set the value of `n_init` explicitly to suppress the warning\n",
            "  warnings.warn(\n",
            "/usr/local/lib/python3.9/dist-packages/sklearn/cluster/_kmeans.py:870: FutureWarning: The default value of `n_init` will change from 10 to 'auto' in 1.4. Set the value of `n_init` explicitly to suppress the warning\n",
            "  warnings.warn(\n",
            "/usr/local/lib/python3.9/dist-packages/sklearn/cluster/_kmeans.py:870: FutureWarning: The default value of `n_init` will change from 10 to 'auto' in 1.4. Set the value of `n_init` explicitly to suppress the warning\n",
            "  warnings.warn(\n",
            "/usr/local/lib/python3.9/dist-packages/sklearn/cluster/_kmeans.py:870: FutureWarning: The default value of `n_init` will change from 10 to 'auto' in 1.4. Set the value of `n_init` explicitly to suppress the warning\n",
            "  warnings.warn(\n",
            "/usr/local/lib/python3.9/dist-packages/sklearn/cluster/_kmeans.py:870: FutureWarning: The default value of `n_init` will change from 10 to 'auto' in 1.4. Set the value of `n_init` explicitly to suppress the warning\n",
            "  warnings.warn(\n",
            "/usr/local/lib/python3.9/dist-packages/sklearn/cluster/_kmeans.py:870: FutureWarning: The default value of `n_init` will change from 10 to 'auto' in 1.4. Set the value of `n_init` explicitly to suppress the warning\n",
            "  warnings.warn(\n",
            "/usr/local/lib/python3.9/dist-packages/sklearn/cluster/_kmeans.py:870: FutureWarning: The default value of `n_init` will change from 10 to 'auto' in 1.4. Set the value of `n_init` explicitly to suppress the warning\n",
            "  warnings.warn(\n",
            "/usr/local/lib/python3.9/dist-packages/sklearn/cluster/_kmeans.py:870: FutureWarning: The default value of `n_init` will change from 10 to 'auto' in 1.4. Set the value of `n_init` explicitly to suppress the warning\n",
            "  warnings.warn(\n",
            "/usr/local/lib/python3.9/dist-packages/sklearn/cluster/_kmeans.py:870: FutureWarning: The default value of `n_init` will change from 10 to 'auto' in 1.4. Set the value of `n_init` explicitly to suppress the warning\n",
            "  warnings.warn(\n",
            "/usr/local/lib/python3.9/dist-packages/sklearn/cluster/_kmeans.py:870: FutureWarning: The default value of `n_init` will change from 10 to 'auto' in 1.4. Set the value of `n_init` explicitly to suppress the warning\n",
            "  warnings.warn(\n",
            "/usr/local/lib/python3.9/dist-packages/sklearn/cluster/_kmeans.py:870: FutureWarning: The default value of `n_init` will change from 10 to 'auto' in 1.4. Set the value of `n_init` explicitly to suppress the warning\n",
            "  warnings.warn(\n",
            "/usr/local/lib/python3.9/dist-packages/sklearn/cluster/_kmeans.py:870: FutureWarning: The default value of `n_init` will change from 10 to 'auto' in 1.4. Set the value of `n_init` explicitly to suppress the warning\n",
            "  warnings.warn(\n",
            "/usr/local/lib/python3.9/dist-packages/sklearn/cluster/_kmeans.py:870: FutureWarning: The default value of `n_init` will change from 10 to 'auto' in 1.4. Set the value of `n_init` explicitly to suppress the warning\n",
            "  warnings.warn(\n"
          ]
        }
      ]
    },
    {
      "cell_type": "code",
      "source": [
        "plt.plot(r2, silhouettes, color='k', marker='*')\n",
        "plt.title('Silhouette Method Analysis')\n",
        "plt.show()"
      ],
      "metadata": {
        "id": "2BWKpCD77l_4",
        "colab": {
          "base_uri": "https://localhost:8080/",
          "height": 281
        },
        "outputId": "1eca237c-543d-418d-a53b-6ef741080c30"
      },
      "execution_count": 45,
      "outputs": [
        {
          "output_type": "display_data",
          "data": {
            "text/plain": [
              "<Figure size 432x288 with 1 Axes>"
            ],
            "image/png": "[encoded data removed]"
          },
          "metadata": {
            "needs_background": "light"
          }
        }
      ]
    },
    {
      "cell_type": "markdown",
      "source": [
        "####K=2"
      ],
      "metadata": {
        "id": "hiWQ8E19g5Sy"
      }
    },
    {
      "cell_type": "code",
      "source": [
        "km = KMeans(n_clusters=2)\n",
        "km.fit(kmeans_data)\n",
        "label = km.fit_predict(kmeans_data)\n",
        "u_labels = np.unique(label)"
      ],
      "metadata": {
        "id": "JCa5e7xO7l8R",
        "colab": {
          "base_uri": "https://localhost:8080/"
        },
        "outputId": "00b2f90d-1de9-40c2-f3c9-f67d9fcc6b03"
      },
      "execution_count": 46,
      "outputs": [
        {
          "output_type": "stream",
          "name": "stderr",
          "text": [
            "/usr/local/lib/python3.9/dist-packages/sklearn/cluster/_kmeans.py:870: FutureWarning: The default value of `n_init` will change from 10 to 'auto' in 1.4. Set the value of `n_init` explicitly to suppress the warning\n",
            "  warnings.warn(\n",
            "/usr/local/lib/python3.9/dist-packages/sklearn/cluster/_kmeans.py:870: FutureWarning: The default value of `n_init` will change from 10 to 'auto' in 1.4. Set the value of `n_init` explicitly to suppress the warning\n",
            "  warnings.warn(\n"
          ]
        }
      ]
    },
    {
      "cell_type": "code",
      "source": [
        "for i in u_labels:\n",
        "    plt.scatter(kmeans_data.iloc[label == i , 0] , kmeans_data.iloc[label == i , 1] , label = i)\n",
        "plt.legend()\n",
        "plt.show()"
      ],
      "metadata": {
        "id": "TIEn3N3t7l5D",
        "colab": {
          "base_uri": "https://localhost:8080/",
          "height": 265
        },
        "outputId": "96bcf5d7-e246-4030-e1cb-679356a26801"
      },
      "execution_count": 47,
      "outputs": [
        {
          "output_type": "display_data",
          "data": {
            "text/plain": [
              "<Figure size 432x288 with 1 Axes>"
            ],
            "image/png": "[encoded data removed]"
          },
          "metadata": {
            "needs_background": "light"
          }
        }
      ]
    },
    {
      "cell_type": "code",
      "source": [],
      "metadata": {
        "id": "z505Fu5ii6KN"
      },
      "execution_count": 47,
      "outputs": []
    },
    {
      "cell_type": "markdown",
      "source": [
        "####K=2 clusters visualized\n",
        "\n",
        "```\n",
        "\n",
        "```\n",
        "\n"
      ],
      "metadata": {
        "id": "h_YgZhx0i6va"
      }
    },
    {
      "cell_type": "code",
      "source": [
        "for i in np.unique(label):\n",
        "    kmeans_data[label==0].groupby('Average_Score').size().plot(kind='bar')"
      ],
      "metadata": {
        "id": "I7qcoX8ojNIm",
        "colab": {
          "base_uri": "https://localhost:8080/",
          "height": 381
        },
        "outputId": "6f31767f-14fb-49a5-f9f6-20eb6296d4ee"
      },
      "execution_count": 48,
      "outputs": [
        {
          "output_type": "display_data",
          "data": {
            "text/plain": [
              "<Figure size 432x288 with 1 Axes>"
            ],
            "image/png": "[encoded data removed]"
          },
          "metadata": {
            "needs_background": "light"
          }
        }
      ]
    },
    {
      "cell_type": "code",
      "source": [
        "for i in np.unique(label):\n",
        "    kmeans_data[label==1].groupby('Average_Score').size().plot(kind='bar')"
      ],
      "metadata": {
        "id": "n7PaNYuSjNF3",
        "colab": {
          "base_uri": "https://localhost:8080/",
          "height": 381
        },
        "outputId": "ea2e2068-5877-44d0-a70a-1079386fa490"
      },
      "execution_count": 49,
      "outputs": [
        {
          "output_type": "display_data",
          "data": {
            "text/plain": [
              "<Figure size 432x288 with 1 Axes>"
            ],
            "image/png": "[encoded data removed]"
          },
          "metadata": {
            "needs_background": "light"
          }
        }
      ]
    },
    {
      "cell_type": "markdown",
      "source": [
        "####K=3"
      ],
      "metadata": {
        "id": "A_YNMVn3hAxp"
      }
    },
    {
      "cell_type": "code",
      "source": [
        "km = KMeans(n_clusters=3)\n",
        "km.fit(kmeans_data)\n",
        "label = km.fit_predict(kmeans_data)\n",
        "u_labels = np.unique(label)"
      ],
      "metadata": {
        "id": "E8kS_-Vog3yF",
        "colab": {
          "base_uri": "https://localhost:8080/"
        },
        "outputId": "299cc91b-c4af-4771-b80e-82751b581e75"
      },
      "execution_count": 50,
      "outputs": [
        {
          "output_type": "stream",
          "name": "stderr",
          "text": [
            "/usr/local/lib/python3.9/dist-packages/sklearn/cluster/_kmeans.py:870: FutureWarning: The default value of `n_init` will change from 10 to 'auto' in 1.4. Set the value of `n_init` explicitly to suppress the warning\n",
            "  warnings.warn(\n",
            "/usr/local/lib/python3.9/dist-packages/sklearn/cluster/_kmeans.py:870: FutureWarning: The default value of `n_init` will change from 10 to 'auto' in 1.4. Set the value of `n_init` explicitly to suppress the warning\n",
            "  warnings.warn(\n"
          ]
        }
      ]
    },
    {
      "cell_type": "code",
      "source": [
        "for i in u_labels:\n",
        "    plt.scatter(kmeans_data.iloc[label == i , 0] , kmeans_data.iloc[label == i , 1] , label = i)\n",
        "plt.legend()\n",
        "plt.show()"
      ],
      "metadata": {
        "id": "kRKvYZRkhGxd",
        "colab": {
          "base_uri": "https://localhost:8080/",
          "height": 265
        },
        "outputId": "47a98434-0b9a-49ce-dde1-7b7186872874"
      },
      "execution_count": 51,
      "outputs": [
        {
          "output_type": "display_data",
          "data": {
            "text/plain": [
              "<Figure size 432x288 with 1 Axes>"
            ],
            "image/png": "[encoded data removed]"
          },
          "metadata": {
            "needs_background": "light"
          }
        }
      ]
    },
    {
      "cell_type": "markdown",
      "source": [
        "With label 0, majority of hotels have a 5.5 to 7 score"
      ],
      "metadata": {
        "id": "0HcDN0uWN2oO"
      }
    },
    {
      "cell_type": "markdown",
      "source": [
        "#### K=3 clusters visualized\n",
        "\n"
      ],
      "metadata": {
        "id": "9PPbcKQUR9Za"
      }
    },
    {
      "cell_type": "code",
      "source": [
        "for i in np.unique(label):\n",
        "    kmeans_data[label==0].groupby('Average_Score').size().plot(kind='bar')"
      ],
      "metadata": {
        "id": "Rmt1DIDqjgjl",
        "colab": {
          "base_uri": "https://localhost:8080/",
          "height": 381
        },
        "outputId": "1729d0b0-4eb1-43db-8d05-92ef0c5d9430"
      },
      "execution_count": 52,
      "outputs": [
        {
          "output_type": "display_data",
          "data": {
            "text/plain": [
              "<Figure size 432x288 with 1 Axes>"
            ],
            "image/png": "[encoded data removed]"
          },
          "metadata": {
            "needs_background": "light"
          }
        }
      ]
    },
    {
      "cell_type": "code",
      "source": [
        "for i in np.unique(label):\n",
        "    kmeans_data[label==1].groupby('Average_Score').size().plot(kind='bar')"
      ],
      "metadata": {
        "id": "JRk-_lRujghU",
        "colab": {
          "base_uri": "https://localhost:8080/",
          "height": 381
        },
        "outputId": "d8f820da-7791-4064-ce4d-69b5d34c9f75"
      },
      "execution_count": 53,
      "outputs": [
        {
          "output_type": "display_data",
          "data": {
            "text/plain": [
              "<Figure size 432x288 with 1 Axes>"
            ],
            "image/png": "[encoded data removed]"
          },
          "metadata": {
            "needs_background": "light"
          }
        }
      ]
    },
    {
      "cell_type": "code",
      "source": [
        "for i in np.unique(label):\n",
        "    kmeans_data[label==2].groupby('Average_Score').size().plot(kind='bar')"
      ],
      "metadata": {
        "id": "JthE_xXGjgeX",
        "colab": {
          "base_uri": "https://localhost:8080/",
          "height": 381
        },
        "outputId": "6b248969-fe02-492f-db11-b3bb3cb1e5aa"
      },
      "execution_count": 54,
      "outputs": [
        {
          "output_type": "display_data",
          "data": {
            "text/plain": [
              "<Figure size 432x288 with 1 Axes>"
            ],
            "image/png": "[encoded data removed]"
          },
          "metadata": {
            "needs_background": "light"
          }
        }
      ]
    },
    {
      "cell_type": "markdown",
      "source": [
        "###Bar Graphs"
      ],
      "metadata": {
        "id": "1DHti-nFu5M0"
      }
    },
    {
      "cell_type": "code",
      "source": [
        "val1=val2=val3=0\n",
        "for value in data['Average_Score']:\n",
        "   if value <4:\n",
        "     val1=val1+1\n",
        "   elif (value >=4 and value<=7):\n",
        "      val2=val2+1\n",
        "   elif (value >7):\n",
        "     val3=val3+1"
      ],
      "metadata": {
        "id": "ijnMK9m1vaCX"
      },
      "execution_count": 55,
      "outputs": []
    },
    {
      "cell_type": "code",
      "source": [
        "data1=[['Less than 4', val1], ['Between 4 and 7', val2], ['More than 7', val3]]\n",
        "df = pd.DataFrame(data1, columns=['R', 'Count'])\n",
        "x=df.R\n",
        "y=df.Count\n",
        "plt.bar(x,y)"
      ],
      "metadata": {
        "id": "oy1EpNb8vZzy",
        "colab": {
          "base_uri": "https://localhost:8080/",
          "height": 282
        },
        "outputId": "450f79e0-71bf-4fc6-c2e7-e8acea2ae1b0"
      },
      "execution_count": 56,
      "outputs": [
        {
          "output_type": "execute_result",
          "data": {
            "text/plain": [
              "<BarContainer object of 3 artists>"
            ]
          },
          "metadata": {},
          "execution_count": 56
        },
        {
          "output_type": "display_data",
          "data": {
            "text/plain": [
              "<Figure size 432x288 with 1 Axes>"
            ],
            "image/png": "[encoded data removed]"
          },
          "metadata": {
            "needs_background": "light"
          }
        }
      ]
    },
    {
      "cell_type": "markdown",
      "source": [
        "#User Input"
      ],
      "metadata": {
        "id": "8dX5uGJ9E2nw"
      }
    },
    {
      "cell_type": "code",
      "source": [
        "add_user_input(data,\"austria\",\"vienna\",\"business\")"
      ],
      "metadata": {
        "id": "_z6BFHQSp-Kq"
      },
      "execution_count": 57,
      "outputs": []
    },
    {
      "cell_type": "code",
      "source": [
        "data['id']=data.index"
      ],
      "metadata": {
        "id": "4gxaAvH9y7MW"
      },
      "execution_count": 58,
      "outputs": []
    },
    {
      "cell_type": "code",
      "source": [
        "data[\"Tags\"]=data[\"Tags\"].str.lower()\n",
        "data[\"country\"]=data[\"country\"].str.lower()\n",
        "data[\"city\"]=data[\"city\"].str.lower()\n",
        "data['Hotel_Name']=data['Hotel_Name'].str.lower()"
      ],
      "metadata": {
        "id": "zo2adyCFlFi4"
      },
      "execution_count": 59,
      "outputs": []
    },
    {
      "cell_type": "code",
      "source": [
        "dfcountry=data.loc[data['country']=='austria']"
      ],
      "metadata": {
        "id": "5RcF7CR5p-Mz"
      },
      "execution_count": 60,
      "outputs": []
    },
    {
      "cell_type": "code",
      "source": [
        "dfcountry.head()"
      ],
      "metadata": {
        "colab": {
          "base_uri": "https://localhost:8080/",
          "height": 458
        },
        "id": "F3JcPAMo4u7w",
        "outputId": "62a581f6-fab2-4f7f-b84a-e90fb9ab2a15"
      },
      "execution_count": 61,
      "outputs": [
        {
          "output_type": "execute_result",
          "data": {
            "text/plain": [
              "                            Hotel_Name  country    city     review  \\\n",
              "0                          user_choice  austria  vienna  10.000000   \n",
              "3   25hours hotel beim museumsquartier  austria  vienna   5.187664   \n",
              "19       arcotel kaiserwasser superior  austria  vienna   5.084699   \n",
              "20                   arcotel wimberger  austria  vienna   5.112625   \n",
              "21                 azimut hotel vienna  austria  vienna   5.106380   \n",
              "\n",
              "    Average_Score  Total_Number_of_Reviews  \\\n",
              "0       10.000000                10.000000   \n",
              "3        7.826087                 2.574728   \n",
              "19       7.391304                 0.730138   \n",
              "20       6.521739                 1.108438   \n",
              "21       6.521739                 0.611656   \n",
              "\n",
              "                                                 Tags  Contract_Price  id  \n",
              "0                                            business               0   0  \n",
              "3    leisure trip solo traveler standard double ro...           40000   3  \n",
              "19   solo traveler 2 rooms stayed nights submitted...           20000  19  \n",
              "20   leisure trip family with young children 2 roo...           40000  20  \n",
              "21   leisure trip group standard double room staye...           30000  21  "
            ],
            "text/html": [
              "\n",
              "  <div id=\"df-f5d31453-70e6-4f0f-8eff-11d25b61e57b\">\n",
              "    <div class=\"colab-df-container\">\n",
              "      <div>\n",
              "<style scoped>\n",
              "    .dataframe tbody tr th:only-of-type {\n",
              "        vertical-align: middle;\n",
              "    }\n",
              "\n",
              "    .dataframe tbody tr th {\n",
              "        vertical-align: top;\n",
              "    }\n",
              "\n",
              "    .dataframe thead th {\n",
              "        text-align: right;\n",
              "    }\n",
              "</style>\n",
              "<table border=\"1\" class=\"dataframe\">\n",
              "  <thead>\n",
              "    <tr style=\"text-align: right;\">\n",
              "      <th></th>\n",
              "      <th>Hotel_Name</th>\n",
              "      <th>country</th>\n",
              "      <th>city</th>\n",
              "      <th>review</th>\n",
              "      <th>Average_Score</th>\n",
              "      <th>Total_Number_of_Reviews</th>\n",
              "      <th>Tags</th>\n",
              "      <th>Contract_Price</th>\n",
              "      <th>id</th>\n",
              "    </tr>\n",
              "  </thead>\n",
              "  <tbody>\n",
              "    <tr>\n",
              "      <th>0</th>\n",
              "      <td>user_choice</td>\n",
              "      <td>austria</td>\n",
              "      <td>vienna</td>\n",
              "      <td>10.000000</td>\n",
              "      <td>10.000000</td>\n",
              "      <td>10.000000</td>\n",
              "      <td>business</td>\n",
              "      <td>0</td>\n",
              "      <td>0</td>\n",
              "    </tr>\n",
              "    <tr>\n",
              "      <th>3</th>\n",
              "      <td>25hours hotel beim museumsquartier</td>\n",
              "      <td>austria</td>\n",
              "      <td>vienna</td>\n",
              "      <td>5.187664</td>\n",
              "      <td>7.826087</td>\n",
              "      <td>2.574728</td>\n",
              "      <td>leisure trip solo traveler standard double ro...</td>\n",
              "      <td>40000</td>\n",
              "      <td>3</td>\n",
              "    </tr>\n",
              "    <tr>\n",
              "      <th>19</th>\n",
              "      <td>arcotel kaiserwasser superior</td>\n",
              "      <td>austria</td>\n",
              "      <td>vienna</td>\n",
              "      <td>5.084699</td>\n",
              "      <td>7.391304</td>\n",
              "      <td>0.730138</td>\n",
              "      <td>solo traveler 2 rooms stayed nights submitted...</td>\n",
              "      <td>20000</td>\n",
              "      <td>19</td>\n",
              "    </tr>\n",
              "    <tr>\n",
              "      <th>20</th>\n",
              "      <td>arcotel wimberger</td>\n",
              "      <td>austria</td>\n",
              "      <td>vienna</td>\n",
              "      <td>5.112625</td>\n",
              "      <td>6.521739</td>\n",
              "      <td>1.108438</td>\n",
              "      <td>leisure trip family with young children 2 roo...</td>\n",
              "      <td>40000</td>\n",
              "      <td>20</td>\n",
              "    </tr>\n",
              "    <tr>\n",
              "      <th>21</th>\n",
              "      <td>azimut hotel vienna</td>\n",
              "      <td>austria</td>\n",
              "      <td>vienna</td>\n",
              "      <td>5.106380</td>\n",
              "      <td>6.521739</td>\n",
              "      <td>0.611656</td>\n",
              "      <td>leisure trip group standard double room staye...</td>\n",
              "      <td>30000</td>\n",
              "      <td>21</td>\n",
              "    </tr>\n",
              "  </tbody>\n",
              "</table>\n",
              "</div>\n",
              "      <button class=\"colab-df-convert\" onclick=\"convertToInteractive('df-f5d31453-70e6-4f0f-8eff-11d25b61e57b')\"\n",
              "              title=\"Convert this dataframe to an interactive table.\"\n",
              "              style=\"display:none;\">\n",
              "        \n",
              "  <svg xmlns=\"http://www.w3.org/2000/svg\" height=\"24px\"viewBox=\"0 0 24 24\"\n",
              "       width=\"24px\">\n",
              "    <path d=\"M0 0h24v24H0V0z\" fill=\"none\"/>\n",
              "    <path d=\"M18.56 5.44l.94 2.06.94-2.06 2.06-.94-2.06-.94-.94-2.06-.94 2.06-2.06.94zm-11 1L8.5 8.5l.94-2.06 2.06-.94-2.06-.94L8.5 2.5l-.94 2.06-2.06.94zm10 10l.94 2.06.94-2.06 2.06-.94-2.06-.94-.94-2.06-.94 2.06-2.06.94z\"/><path d=\"M17.41 7.96l-1.37-1.37c-.4-.4-.92-.59-1.43-.59-.52 0-1.04.2-1.43.59L10.3 9.45l-7.72 7.72c-.78.78-.78 2.05 0 2.83L4 21.41c.39.39.9.59 1.41.59.51 0 1.02-.2 1.41-.59l7.78-7.78 2.81-2.81c.8-.78.8-2.07 0-2.86zM5.41 20L4 18.59l7.72-7.72 1.47 1.35L5.41 20z\"/>\n",
              "  </svg>\n",
              "      </button>\n",
              "      \n",
              "  <style>\n",
              "    .colab-df-container {\n",
              "      display:flex;\n",
              "      flex-wrap:wrap;\n",
              "      gap: 12px;\n",
              "    }\n",
              "\n",
              "    .colab-df-convert {\n",
              "      background-color: #E8F0FE;\n",
              "      border: none;\n",
              "      border-radius: 50%;\n",
              "      cursor: pointer;\n",
              "      display: none;\n",
              "      fill: #1967D2;\n",
              "      height: 32px;\n",
              "      padding: 0 0 0 0;\n",
              "      width: 32px;\n",
              "    }\n",
              "\n",
              "    .colab-df-convert:hover {\n",
              "      background-color: #E2EBFA;\n",
              "      box-shadow: 0px 1px 2px rgba(60, 64, 67, 0.3), 0px 1px 3px 1px rgba(60, 64, 67, 0.15);\n",
              "      fill: #174EA6;\n",
              "    }\n",
              "\n",
              "    [theme=dark] .colab-df-convert {\n",
              "      background-color: #3B4455;\n",
              "      fill: #D2E3FC;\n",
              "    }\n",
              "\n",
              "    [theme=dark] .colab-df-convert:hover {\n",
              "      background-color: #434B5C;\n",
              "      box-shadow: 0px 1px 3px 1px rgba(0, 0, 0, 0.15);\n",
              "      filter: drop-shadow(0px 1px 2px rgba(0, 0, 0, 0.3));\n",
              "      fill: #FFFFFF;\n",
              "    }\n",
              "  </style>\n",
              "\n",
              "      <script>\n",
              "        const buttonEl =\n",
              "          document.querySelector('#df-f5d31453-70e6-4f0f-8eff-11d25b61e57b button.colab-df-convert');\n",
              "        buttonEl.style.display =\n",
              "          google.colab.kernel.accessAllowed ? 'block' : 'none';\n",
              "\n",
              "        async function convertToInteractive(key) {\n",
              "          const element = document.querySelector('#df-f5d31453-70e6-4f0f-8eff-11d25b61e57b');\n",
              "          const dataTable =\n",
              "            await google.colab.kernel.invokeFunction('convertToInteractive',\n",
              "                                                     [key], {});\n",
              "          if (!dataTable) return;\n",
              "\n",
              "          const docLinkHtml = 'Like what you see? Visit the ' +\n",
              "            '<a target=\"_blank\" href=https://colab.research.google.com/notebooks/data_table.ipynb>data table notebook</a>'\n",
              "            + ' to learn more about interactive tables.';\n",
              "          element.innerHTML = '';\n",
              "          dataTable['output_type'] = 'display_data';\n",
              "          await google.colab.output.renderOutput(dataTable, element);\n",
              "          const docLink = document.createElement('div');\n",
              "          docLink.innerHTML = docLinkHtml;\n",
              "          element.appendChild(docLink);\n",
              "        }\n",
              "      </script>\n",
              "    </div>\n",
              "  </div>\n",
              "  "
            ]
          },
          "metadata": {},
          "execution_count": 61
        }
      ]
    },
    {
      "cell_type": "markdown",
      "source": [
        "# Algorithms"
      ],
      "metadata": {
        "id": "3sdimVe7FAzY"
      }
    },
    {
      "cell_type": "markdown",
      "source": [
        "##Cosine Simlarity"
      ],
      "metadata": {
        "id": "nUK8JQF-v_HL"
      }
    },
    {
      "cell_type": "code",
      "source": [
        "unordered_list=[]"
      ],
      "metadata": {
        "id": "lGUEyHvfny6J"
      },
      "execution_count": 62,
      "outputs": []
    },
    {
      "cell_type": "markdown",
      "source": [
        "###Recommended( Acc to description)"
      ],
      "metadata": {
        "id": "K5K_YvZsvefE"
      }
    },
    {
      "cell_type": "code",
      "source": [
        "vector1=cv.fit_transform(dfcountry['Tags']).toarray()"
      ],
      "metadata": {
        "id": "zhgM5YCZp-SV"
      },
      "execution_count": 63,
      "outputs": []
    },
    {
      "cell_type": "code",
      "source": [
        "similarity=cosine_similarity(vector1)"
      ],
      "metadata": {
        "id": "RQoshYUNvl8V"
      },
      "execution_count": 64,
      "outputs": []
    },
    {
      "cell_type": "code",
      "source": [
        "hotel_list=sorted(list(enumerate(similarity[0])),reverse=True, key=lambda x:x[1])[1:20]"
      ],
      "metadata": {
        "id": "klJHToAqvl49"
      },
      "execution_count": 65,
      "outputs": []
    },
    {
      "cell_type": "markdown",
      "source": [
        "###Recommendation(Acc to description+scores)"
      ],
      "metadata": {
        "id": "XxzXn40zTwa1"
      }
    },
    {
      "cell_type": "markdown",
      "source": [
        "Getting IDs of all best hotels according to description to then get the best from this pool according to nummerical factors\n"
      ],
      "metadata": {
        "id": "d4Fci8fGIGrw"
      }
    },
    {
      "cell_type": "code",
      "source": [
        "hotel_ids=[]\n",
        "Get_Ids(hotel_ids,hotel_list,dfcountry)"
      ],
      "metadata": {
        "id": "9hnbH7d-vl3W"
      },
      "execution_count": 66,
      "outputs": []
    },
    {
      "cell_type": "code",
      "source": [
        "hotel_ids.append(0)"
      ],
      "metadata": {
        "id": "xqOhbFo_LelQ"
      },
      "execution_count": 67,
      "outputs": []
    },
    {
      "cell_type": "code",
      "source": [
        "new_data=dfcountry.loc[data['id'].isin(hotel_ids)]"
      ],
      "metadata": {
        "id": "4h2Ns2DXvl0G"
      },
      "execution_count": 68,
      "outputs": []
    },
    {
      "cell_type": "code",
      "source": [
        "new_data.head()"
      ],
      "metadata": {
        "id": "_WCGWJreIjGV",
        "colab": {
          "base_uri": "https://localhost:8080/",
          "height": 389
        },
        "outputId": "3354ab54-a7de-4f3f-ff8a-7f792cb4549d"
      },
      "execution_count": 69,
      "outputs": [
        {
          "output_type": "execute_result",
          "data": {
            "text/plain": [
              "                       Hotel_Name  country    city     review  Average_Score  \\\n",
              "0                     user_choice  austria  vienna  10.000000      10.000000   \n",
              "38                    am spiegeln  austria  vienna   4.941233       6.739130   \n",
              "265           das opernring hotel  austria  vienna   5.249948       8.043478   \n",
              "266              das triest hotel  austria  vienna   5.074821       6.304348   \n",
              "333  fourside hotel suites vienna  austria  vienna   5.149549       7.391304   \n",
              "\n",
              "     Total_Number_of_Reviews  \\\n",
              "0                  10.000000   \n",
              "38                  0.118482   \n",
              "265                 0.736152   \n",
              "266                 0.139532   \n",
              "333                 0.663379   \n",
              "\n",
              "                                                  Tags  Contract_Price   id  \n",
              "0                                             business               0    0  \n",
              "38    business trip solo traveler single room staye...           50000   38  \n",
              "265   leisure trip couple double room stayed 1 nigh...           20000  265  \n",
              "266   business trip family with young children juni...           10000  266  \n",
              "333   business trip solo traveler studio stayed 3 n...           20000  333  "
            ],
            "text/html": [
              "\n",
              "  <div id=\"df-170efe82-892b-4927-a0c0-df4b5cf8ab85\">\n",
              "    <div class=\"colab-df-container\">\n",
              "      <div>\n",
              "<style scoped>\n",
              "    .dataframe tbody tr th:only-of-type {\n",
              "        vertical-align: middle;\n",
              "    }\n",
              "\n",
              "    .dataframe tbody tr th {\n",
              "        vertical-align: top;\n",
              "    }\n",
              "\n",
              "    .dataframe thead th {\n",
              "        text-align: right;\n",
              "    }\n",
              "</style>\n",
              "<table border=\"1\" class=\"dataframe\">\n",
              "  <thead>\n",
              "    <tr style=\"text-align: right;\">\n",
              "      <th></th>\n",
              "      <th>Hotel_Name</th>\n",
              "      <th>country</th>\n",
              "      <th>city</th>\n",
              "      <th>review</th>\n",
              "      <th>Average_Score</th>\n",
              "      <th>Total_Number_of_Reviews</th>\n",
              "      <th>Tags</th>\n",
              "      <th>Contract_Price</th>\n",
              "      <th>id</th>\n",
              "    </tr>\n",
              "  </thead>\n",
              "  <tbody>\n",
              "    <tr>\n",
              "      <th>0</th>\n",
              "      <td>user_choice</td>\n",
              "      <td>austria</td>\n",
              "      <td>vienna</td>\n",
              "      <td>10.000000</td>\n",
              "      <td>10.000000</td>\n",
              "      <td>10.000000</td>\n",
              "      <td>business</td>\n",
              "      <td>0</td>\n",
              "      <td>0</td>\n",
              "    </tr>\n",
              "    <tr>\n",
              "      <th>38</th>\n",
              "      <td>am spiegeln</td>\n",
              "      <td>austria</td>\n",
              "      <td>vienna</td>\n",
              "      <td>4.941233</td>\n",
              "      <td>6.739130</td>\n",
              "      <td>0.118482</td>\n",
              "      <td>business trip solo traveler single room staye...</td>\n",
              "      <td>50000</td>\n",
              "      <td>38</td>\n",
              "    </tr>\n",
              "    <tr>\n",
              "      <th>265</th>\n",
              "      <td>das opernring hotel</td>\n",
              "      <td>austria</td>\n",
              "      <td>vienna</td>\n",
              "      <td>5.249948</td>\n",
              "      <td>8.043478</td>\n",
              "      <td>0.736152</td>\n",
              "      <td>leisure trip couple double room stayed 1 nigh...</td>\n",
              "      <td>20000</td>\n",
              "      <td>265</td>\n",
              "    </tr>\n",
              "    <tr>\n",
              "      <th>266</th>\n",
              "      <td>das triest hotel</td>\n",
              "      <td>austria</td>\n",
              "      <td>vienna</td>\n",
              "      <td>5.074821</td>\n",
              "      <td>6.304348</td>\n",
              "      <td>0.139532</td>\n",
              "      <td>business trip family with young children juni...</td>\n",
              "      <td>10000</td>\n",
              "      <td>266</td>\n",
              "    </tr>\n",
              "    <tr>\n",
              "      <th>333</th>\n",
              "      <td>fourside hotel suites vienna</td>\n",
              "      <td>austria</td>\n",
              "      <td>vienna</td>\n",
              "      <td>5.149549</td>\n",
              "      <td>7.391304</td>\n",
              "      <td>0.663379</td>\n",
              "      <td>business trip solo traveler studio stayed 3 n...</td>\n",
              "      <td>20000</td>\n",
              "      <td>333</td>\n",
              "    </tr>\n",
              "  </tbody>\n",
              "</table>\n",
              "</div>\n",
              "      <button class=\"colab-df-convert\" onclick=\"convertToInteractive('df-170efe82-892b-4927-a0c0-df4b5cf8ab85')\"\n",
              "              title=\"Convert this dataframe to an interactive table.\"\n",
              "              style=\"display:none;\">\n",
              "        \n",
              "  <svg xmlns=\"http://www.w3.org/2000/svg\" height=\"24px\"viewBox=\"0 0 24 24\"\n",
              "       width=\"24px\">\n",
              "    <path d=\"M0 0h24v24H0V0z\" fill=\"none\"/>\n",
              "    <path d=\"M18.56 5.44l.94 2.06.94-2.06 2.06-.94-2.06-.94-.94-2.06-.94 2.06-2.06.94zm-11 1L8.5 8.5l.94-2.06 2.06-.94-2.06-.94L8.5 2.5l-.94 2.06-2.06.94zm10 10l.94 2.06.94-2.06 2.06-.94-2.06-.94-.94-2.06-.94 2.06-2.06.94z\"/><path d=\"M17.41 7.96l-1.37-1.37c-.4-.4-.92-.59-1.43-.59-.52 0-1.04.2-1.43.59L10.3 9.45l-7.72 7.72c-.78.78-.78 2.05 0 2.83L4 21.41c.39.39.9.59 1.41.59.51 0 1.02-.2 1.41-.59l7.78-7.78 2.81-2.81c.8-.78.8-2.07 0-2.86zM5.41 20L4 18.59l7.72-7.72 1.47 1.35L5.41 20z\"/>\n",
              "  </svg>\n",
              "      </button>\n",
              "      \n",
              "  <style>\n",
              "    .colab-df-container {\n",
              "      display:flex;\n",
              "      flex-wrap:wrap;\n",
              "      gap: 12px;\n",
              "    }\n",
              "\n",
              "    .colab-df-convert {\n",
              "      background-color: #E8F0FE;\n",
              "      border: none;\n",
              "      border-radius: 50%;\n",
              "      cursor: pointer;\n",
              "      display: none;\n",
              "      fill: #1967D2;\n",
              "      height: 32px;\n",
              "      padding: 0 0 0 0;\n",
              "      width: 32px;\n",
              "    }\n",
              "\n",
              "    .colab-df-convert:hover {\n",
              "      background-color: #E2EBFA;\n",
              "      box-shadow: 0px 1px 2px rgba(60, 64, 67, 0.3), 0px 1px 3px 1px rgba(60, 64, 67, 0.15);\n",
              "      fill: #174EA6;\n",
              "    }\n",
              "\n",
              "    [theme=dark] .colab-df-convert {\n",
              "      background-color: #3B4455;\n",
              "      fill: #D2E3FC;\n",
              "    }\n",
              "\n",
              "    [theme=dark] .colab-df-convert:hover {\n",
              "      background-color: #434B5C;\n",
              "      box-shadow: 0px 1px 3px 1px rgba(0, 0, 0, 0.15);\n",
              "      filter: drop-shadow(0px 1px 2px rgba(0, 0, 0, 0.3));\n",
              "      fill: #FFFFFF;\n",
              "    }\n",
              "  </style>\n",
              "\n",
              "      <script>\n",
              "        const buttonEl =\n",
              "          document.querySelector('#df-170efe82-892b-4927-a0c0-df4b5cf8ab85 button.colab-df-convert');\n",
              "        buttonEl.style.display =\n",
              "          google.colab.kernel.accessAllowed ? 'block' : 'none';\n",
              "\n",
              "        async function convertToInteractive(key) {\n",
              "          const element = document.querySelector('#df-170efe82-892b-4927-a0c0-df4b5cf8ab85');\n",
              "          const dataTable =\n",
              "            await google.colab.kernel.invokeFunction('convertToInteractive',\n",
              "                                                     [key], {});\n",
              "          if (!dataTable) return;\n",
              "\n",
              "          const docLinkHtml = 'Like what you see? Visit the ' +\n",
              "            '<a target=\"_blank\" href=https://colab.research.google.com/notebooks/data_table.ipynb>data table notebook</a>'\n",
              "            + ' to learn more about interactive tables.';\n",
              "          element.innerHTML = '';\n",
              "          dataTable['output_type'] = 'display_data';\n",
              "          await google.colab.output.renderOutput(dataTable, element);\n",
              "          const docLink = document.createElement('div');\n",
              "          docLink.innerHTML = docLinkHtml;\n",
              "          element.appendChild(docLink);\n",
              "        }\n",
              "      </script>\n",
              "    </div>\n",
              "  </div>\n",
              "  "
            ]
          },
          "metadata": {},
          "execution_count": 69
        }
      ]
    },
    {
      "cell_type": "code",
      "source": [
        "vector2=new_data[colls].to_numpy()"
      ],
      "metadata": {
        "id": "Mson911dF4au"
      },
      "execution_count": 70,
      "outputs": []
    },
    {
      "cell_type": "code",
      "source": [
        "similarity2=cosine_similarity(vector2)"
      ],
      "metadata": {
        "id": "AG_-ysjmGCG3"
      },
      "execution_count": 71,
      "outputs": []
    },
    {
      "cell_type": "code",
      "source": [
        "final_list=sorted(list(enumerate(similarity2[0])),reverse=True, key=lambda x:x[1])[1:11]"
      ],
      "metadata": {
        "id": "Bg7JZJGAvlwM"
      },
      "execution_count": 72,
      "outputs": []
    },
    {
      "cell_type": "code",
      "source": [
        "for i in final_list:\n",
        "  unordered_list.append(new_data.iloc[i[0]].id)\n",
        "  print(new_data.iloc[i[0]].Hotel_Name,new_data.iloc[i[0]].country,new_data.iloc[i[0]].city)"
      ],
      "metadata": {
        "id": "x2kFHqiNvluv",
        "colab": {
          "base_uri": "https://localhost:8080/"
        },
        "outputId": "69510373-f670-4c5e-bcb2-e58325fcf92d"
      },
      "execution_count": 73,
      "outputs": [
        {
          "output_type": "stream",
          "name": "stdout",
          "text": [
            "hotel domizil austria vienna\n",
            "hotel schild austria vienna\n",
            "das opernring hotel austria vienna\n",
            "fourside hotel suites vienna austria vienna\n",
            "hotel k nig von ungarn austria vienna\n",
            "graben hotel austria vienna\n",
            "hotel johann strauss austria vienna\n",
            "hotel corvinus austria vienna\n",
            "hotel beethoven wien austria vienna\n",
            "hotel sacher wien austria vienna\n"
          ]
        }
      ]
    },
    {
      "cell_type": "code",
      "source": [
        "print(unordered_list)"
      ],
      "metadata": {
        "id": "EPK1F-fL7o4i",
        "colab": {
          "base_uri": "https://localhost:8080/"
        },
        "outputId": "fbf91d23-5f25-451f-9576-397306eda634"
      },
      "execution_count": 74,
      "outputs": [
        {
          "output_type": "stream",
          "name": "stdout",
          "text": [
            "[615, 748, 265, 333, 645, 352, 644, 600, 576, 741]\n"
          ]
        }
      ]
    },
    {
      "cell_type": "markdown",
      "source": [
        "##Dimension Reduction-PCA"
      ],
      "metadata": {
        "id": "AwtttYLGTdUV"
      }
    },
    {
      "cell_type": "code",
      "source": [
        "vector3=dfcountry[colls].to_numpy()"
      ],
      "metadata": {
        "id": "lhcnXJsuHDQX"
      },
      "execution_count": 75,
      "outputs": []
    },
    {
      "cell_type": "code",
      "source": [
        "PCAvector=np.concatenate((vector1,vector3),axis=1)"
      ],
      "metadata": {
        "id": "kL28P9qJI-94"
      },
      "execution_count": 76,
      "outputs": []
    },
    {
      "cell_type": "code",
      "source": [
        "PCAvector.shape"
      ],
      "metadata": {
        "id": "tWMnpJJBHDMd",
        "colab": {
          "base_uri": "https://localhost:8080/"
        },
        "outputId": "6c0caf37-b4f1-4027-8079-44474c403bbc"
      },
      "execution_count": 77,
      "outputs": [
        {
          "output_type": "execute_result",
          "data": {
            "text/plain": [
              "(148, 156)"
            ]
          },
          "metadata": {},
          "execution_count": 77
        }
      ]
    },
    {
      "cell_type": "code",
      "source": [
        "pca = PCA(n_components=None)"
      ],
      "metadata": {
        "id": "4b3wg-eWHDLg"
      },
      "execution_count": 78,
      "outputs": []
    },
    {
      "cell_type": "code",
      "source": [
        "dfx_pca = pca.fit(PCAvector)"
      ],
      "metadata": {
        "id": "uNXi6O0UHDJq"
      },
      "execution_count": 79,
      "outputs": []
    },
    {
      "cell_type": "code",
      "source": [
        "r=[]\n",
        "for i in range(len(dfx_pca.explained_variance_ratio_)):\n",
        "  r.append(i+1)"
      ],
      "metadata": {
        "id": "MZPpk3H8VDbf"
      },
      "execution_count": 80,
      "outputs": []
    },
    {
      "cell_type": "code",
      "source": [
        "plt.figure(figsize=(10,6))\n",
        "plt.scatter(x=r,\n",
        "            y=dfx_pca.explained_variance_ratio_,\n",
        "           s=200, alpha=0.75,c='orange',edgecolor='k')\n",
        "plt.grid(True)\n",
        "plt.title(\"Explained variance ratio of the \\nfitted principal component vector\\n\",fontsize=25)\n",
        "plt.xlabel(\"Principal components\",fontsize=15)\n",
        "#plt.xticks([i+1 for i in range(len(dfx_pca.explained_variance_ratio_))],fontsize=15)\n",
        "plt.yticks(fontsize=15)\n",
        "plt.ylabel(\"Explained variance ratio\",fontsize=15)\n",
        "plt.show()"
      ],
      "metadata": {
        "id": "gmBC_cZwJwPb",
        "colab": {
          "base_uri": "https://localhost:8080/",
          "height": 474
        },
        "outputId": "29ab28e0-6322-4d21-af90-96afd6507721"
      },
      "execution_count": 81,
      "outputs": [
        {
          "output_type": "display_data",
          "data": {
            "text/plain": [
              "<Figure size 720x432 with 1 Axes>"
            ],
            "image/png": "[encoded data removed]"
          },
          "metadata": {
            "needs_background": "light"
          }
        }
      ]
    },
    {
      "cell_type": "code",
      "source": [
        "total=0\n",
        "for i in range(len(dfx_pca.explained_variance_ratio_)):\n",
        "    total=total+dfx_pca.explained_variance_ratio_[i]\n",
        "    if total>0.9:\n",
        "     n=i\n",
        "     print(n)\n",
        "     break"
      ],
      "metadata": {
        "colab": {
          "base_uri": "https://localhost:8080/"
        },
        "id": "NMUi_9koe2nj",
        "outputId": "3e009b8b-6b04-48d4-9222-4129480ac0b6"
      },
      "execution_count": 82,
      "outputs": [
        {
          "output_type": "stream",
          "name": "stdout",
          "text": [
            "35\n"
          ]
        }
      ]
    },
    {
      "cell_type": "code",
      "source": [
        "PCAdf=pd.DataFrame(PCAvector)"
      ],
      "metadata": {
        "id": "fPdXoNm0Zxnq"
      },
      "execution_count": 83,
      "outputs": []
    },
    {
      "cell_type": "code",
      "source": [
        "PCAdf.head()"
      ],
      "metadata": {
        "id": "eQNDTmT0aMK4",
        "colab": {
          "base_uri": "https://localhost:8080/",
          "height": 236
        },
        "outputId": "4a2c5366-2853-4096-9806-80fe797f7f07"
      },
      "execution_count": 84,
      "outputs": [
        {
          "output_type": "execute_result",
          "data": {
            "text/plain": [
              "   0    1    2    3    4    5    6    7    8    9    ...  146  147  148  149  \\\n",
              "0  0.0  0.0  0.0  0.0  0.0  0.0  0.0  0.0  0.0  0.0  ...  0.0  0.0  0.0  0.0   \n",
              "1  1.0  0.0  0.0  0.0  1.0  0.0  0.0  0.0  0.0  0.0  ...  0.0  1.0  0.0  0.0   \n",
              "2  1.0  0.0  0.0  1.0  0.0  0.0  0.0  0.0  0.0  0.0  ...  0.0  0.0  0.0  0.0   \n",
              "3  1.0  0.0  0.0  0.0  0.0  0.0  0.0  0.0  0.0  0.0  ...  0.0  0.0  0.0  0.0   \n",
              "4  0.0  0.0  0.0  0.0  0.0  0.0  0.0  0.0  0.0  0.0  ...  0.0  0.0  0.0  0.0   \n",
              "\n",
              "   150  151  152  153        154        155  \n",
              "0  0.0  0.0  0.0  0.0  10.000000  10.000000  \n",
              "1  0.0  0.0  0.0  1.0   7.826087   2.574728  \n",
              "2  0.0  0.0  0.0  1.0   7.391304   0.730138  \n",
              "3  0.0  0.0  0.0  1.0   6.521739   1.108438  \n",
              "4  0.0  0.0  0.0  1.0   6.521739   0.611656  \n",
              "\n",
              "[5 rows x 156 columns]"
            ],
            "text/html": [
              "\n",
              "  <div id=\"df-66986ede-d55d-4303-9bdb-aa820d90066d\">\n",
              "    <div class=\"colab-df-container\">\n",
              "      <div>\n",
              "<style scoped>\n",
              "    .dataframe tbody tr th:only-of-type {\n",
              "        vertical-align: middle;\n",
              "    }\n",
              "\n",
              "    .dataframe tbody tr th {\n",
              "        vertical-align: top;\n",
              "    }\n",
              "\n",
              "    .dataframe thead th {\n",
              "        text-align: right;\n",
              "    }\n",
              "</style>\n",
              "<table border=\"1\" class=\"dataframe\">\n",
              "  <thead>\n",
              "    <tr style=\"text-align: right;\">\n",
              "      <th></th>\n",
              "      <th>0</th>\n",
              "      <th>1</th>\n",
              "      <th>2</th>\n",
              "      <th>3</th>\n",
              "      <th>4</th>\n",
              "      <th>5</th>\n",
              "      <th>6</th>\n",
              "      <th>7</th>\n",
              "      <th>8</th>\n",
              "      <th>9</th>\n",
              "      <th>...</th>\n",
              "      <th>146</th>\n",
              "      <th>147</th>\n",
              "      <th>148</th>\n",
              "      <th>149</th>\n",
              "      <th>150</th>\n",
              "      <th>151</th>\n",
              "      <th>152</th>\n",
              "      <th>153</th>\n",
              "      <th>154</th>\n",
              "      <th>155</th>\n",
              "    </tr>\n",
              "  </thead>\n",
              "  <tbody>\n",
              "    <tr>\n",
              "      <th>0</th>\n",
              "      <td>0.0</td>\n",
              "      <td>0.0</td>\n",
              "      <td>0.0</td>\n",
              "      <td>0.0</td>\n",
              "      <td>0.0</td>\n",
              "      <td>0.0</td>\n",
              "      <td>0.0</td>\n",
              "      <td>0.0</td>\n",
              "      <td>0.0</td>\n",
              "      <td>0.0</td>\n",
              "      <td>...</td>\n",
              "      <td>0.0</td>\n",
              "      <td>0.0</td>\n",
              "      <td>0.0</td>\n",
              "      <td>0.0</td>\n",
              "      <td>0.0</td>\n",
              "      <td>0.0</td>\n",
              "      <td>0.0</td>\n",
              "      <td>0.0</td>\n",
              "      <td>10.000000</td>\n",
              "      <td>10.000000</td>\n",
              "    </tr>\n",
              "    <tr>\n",
              "      <th>1</th>\n",
              "      <td>1.0</td>\n",
              "      <td>0.0</td>\n",
              "      <td>0.0</td>\n",
              "      <td>0.0</td>\n",
              "      <td>1.0</td>\n",
              "      <td>0.0</td>\n",
              "      <td>0.0</td>\n",
              "      <td>0.0</td>\n",
              "      <td>0.0</td>\n",
              "      <td>0.0</td>\n",
              "      <td>...</td>\n",
              "      <td>0.0</td>\n",
              "      <td>1.0</td>\n",
              "      <td>0.0</td>\n",
              "      <td>0.0</td>\n",
              "      <td>0.0</td>\n",
              "      <td>0.0</td>\n",
              "      <td>0.0</td>\n",
              "      <td>1.0</td>\n",
              "      <td>7.826087</td>\n",
              "      <td>2.574728</td>\n",
              "    </tr>\n",
              "    <tr>\n",
              "      <th>2</th>\n",
              "      <td>1.0</td>\n",
              "      <td>0.0</td>\n",
              "      <td>0.0</td>\n",
              "      <td>1.0</td>\n",
              "      <td>0.0</td>\n",
              "      <td>0.0</td>\n",
              "      <td>0.0</td>\n",
              "      <td>0.0</td>\n",
              "      <td>0.0</td>\n",
              "      <td>0.0</td>\n",
              "      <td>...</td>\n",
              "      <td>0.0</td>\n",
              "      <td>0.0</td>\n",
              "      <td>0.0</td>\n",
              "      <td>0.0</td>\n",
              "      <td>0.0</td>\n",
              "      <td>0.0</td>\n",
              "      <td>0.0</td>\n",
              "      <td>1.0</td>\n",
              "      <td>7.391304</td>\n",
              "      <td>0.730138</td>\n",
              "    </tr>\n",
              "    <tr>\n",
              "      <th>3</th>\n",
              "      <td>1.0</td>\n",
              "      <td>0.0</td>\n",
              "      <td>0.0</td>\n",
              "      <td>0.0</td>\n",
              "      <td>0.0</td>\n",
              "      <td>0.0</td>\n",
              "      <td>0.0</td>\n",
              "      <td>0.0</td>\n",
              "      <td>0.0</td>\n",
              "      <td>0.0</td>\n",
              "      <td>...</td>\n",
              "      <td>0.0</td>\n",
              "      <td>0.0</td>\n",
              "      <td>0.0</td>\n",
              "      <td>0.0</td>\n",
              "      <td>0.0</td>\n",
              "      <td>0.0</td>\n",
              "      <td>0.0</td>\n",
              "      <td>1.0</td>\n",
              "      <td>6.521739</td>\n",
              "      <td>1.108438</td>\n",
              "    </tr>\n",
              "    <tr>\n",
              "      <th>4</th>\n",
              "      <td>0.0</td>\n",
              "      <td>0.0</td>\n",
              "      <td>0.0</td>\n",
              "      <td>0.0</td>\n",
              "      <td>0.0</td>\n",
              "      <td>0.0</td>\n",
              "      <td>0.0</td>\n",
              "      <td>0.0</td>\n",
              "      <td>0.0</td>\n",
              "      <td>0.0</td>\n",
              "      <td>...</td>\n",
              "      <td>0.0</td>\n",
              "      <td>0.0</td>\n",
              "      <td>0.0</td>\n",
              "      <td>0.0</td>\n",
              "      <td>0.0</td>\n",
              "      <td>0.0</td>\n",
              "      <td>0.0</td>\n",
              "      <td>1.0</td>\n",
              "      <td>6.521739</td>\n",
              "      <td>0.611656</td>\n",
              "    </tr>\n",
              "  </tbody>\n",
              "</table>\n",
              "<p>5 rows × 156 columns</p>\n",
              "</div>\n",
              "      <button class=\"colab-df-convert\" onclick=\"convertToInteractive('df-66986ede-d55d-4303-9bdb-aa820d90066d')\"\n",
              "              title=\"Convert this dataframe to an interactive table.\"\n",
              "              style=\"display:none;\">\n",
              "        \n",
              "  <svg xmlns=\"http://www.w3.org/2000/svg\" height=\"24px\"viewBox=\"0 0 24 24\"\n",
              "       width=\"24px\">\n",
              "    <path d=\"M0 0h24v24H0V0z\" fill=\"none\"/>\n",
              "    <path d=\"M18.56 5.44l.94 2.06.94-2.06 2.06-.94-2.06-.94-.94-2.06-.94 2.06-2.06.94zm-11 1L8.5 8.5l.94-2.06 2.06-.94-2.06-.94L8.5 2.5l-.94 2.06-2.06.94zm10 10l.94 2.06.94-2.06 2.06-.94-2.06-.94-.94-2.06-.94 2.06-2.06.94z\"/><path d=\"M17.41 7.96l-1.37-1.37c-.4-.4-.92-.59-1.43-.59-.52 0-1.04.2-1.43.59L10.3 9.45l-7.72 7.72c-.78.78-.78 2.05 0 2.83L4 21.41c.39.39.9.59 1.41.59.51 0 1.02-.2 1.41-.59l7.78-7.78 2.81-2.81c.8-.78.8-2.07 0-2.86zM5.41 20L4 18.59l7.72-7.72 1.47 1.35L5.41 20z\"/>\n",
              "  </svg>\n",
              "      </button>\n",
              "      \n",
              "  <style>\n",
              "    .colab-df-container {\n",
              "      display:flex;\n",
              "      flex-wrap:wrap;\n",
              "      gap: 12px;\n",
              "    }\n",
              "\n",
              "    .colab-df-convert {\n",
              "      background-color: #E8F0FE;\n",
              "      border: none;\n",
              "      border-radius: 50%;\n",
              "      cursor: pointer;\n",
              "      display: none;\n",
              "      fill: #1967D2;\n",
              "      height: 32px;\n",
              "      padding: 0 0 0 0;\n",
              "      width: 32px;\n",
              "    }\n",
              "\n",
              "    .colab-df-convert:hover {\n",
              "      background-color: #E2EBFA;\n",
              "      box-shadow: 0px 1px 2px rgba(60, 64, 67, 0.3), 0px 1px 3px 1px rgba(60, 64, 67, 0.15);\n",
              "      fill: #174EA6;\n",
              "    }\n",
              "\n",
              "    [theme=dark] .colab-df-convert {\n",
              "      background-color: #3B4455;\n",
              "      fill: #D2E3FC;\n",
              "    }\n",
              "\n",
              "    [theme=dark] .colab-df-convert:hover {\n",
              "      background-color: #434B5C;\n",
              "      box-shadow: 0px 1px 3px 1px rgba(0, 0, 0, 0.15);\n",
              "      filter: drop-shadow(0px 1px 2px rgba(0, 0, 0, 0.3));\n",
              "      fill: #FFFFFF;\n",
              "    }\n",
              "  </style>\n",
              "\n",
              "      <script>\n",
              "        const buttonEl =\n",
              "          document.querySelector('#df-66986ede-d55d-4303-9bdb-aa820d90066d button.colab-df-convert');\n",
              "        buttonEl.style.display =\n",
              "          google.colab.kernel.accessAllowed ? 'block' : 'none';\n",
              "\n",
              "        async function convertToInteractive(key) {\n",
              "          const element = document.querySelector('#df-66986ede-d55d-4303-9bdb-aa820d90066d');\n",
              "          const dataTable =\n",
              "            await google.colab.kernel.invokeFunction('convertToInteractive',\n",
              "                                                     [key], {});\n",
              "          if (!dataTable) return;\n",
              "\n",
              "          const docLinkHtml = 'Like what you see? Visit the ' +\n",
              "            '<a target=\"_blank\" href=https://colab.research.google.com/notebooks/data_table.ipynb>data table notebook</a>'\n",
              "            + ' to learn more about interactive tables.';\n",
              "          element.innerHTML = '';\n",
              "          dataTable['output_type'] = 'display_data';\n",
              "          await google.colab.output.renderOutput(dataTable, element);\n",
              "          const docLink = document.createElement('div');\n",
              "          docLink.innerHTML = docLinkHtml;\n",
              "          element.appendChild(docLink);\n",
              "        }\n",
              "      </script>\n",
              "    </div>\n",
              "  </div>\n",
              "  "
            ]
          },
          "metadata": {},
          "execution_count": 84
        }
      ]
    },
    {
      "cell_type": "code",
      "source": [
        "pca = PCA(n_components=n)"
      ],
      "metadata": {
        "id": "-ZT3W8wDf4s2"
      },
      "execution_count": 85,
      "outputs": []
    },
    {
      "cell_type": "code",
      "source": [
        "finaldf = pca.fit(PCAvector)"
      ],
      "metadata": {
        "id": "9GpgQGWigHZI"
      },
      "execution_count": 86,
      "outputs": []
    },
    {
      "cell_type": "code",
      "source": [
        "finaldf=pca.transform(PCAdf)"
      ],
      "metadata": {
        "id": "69cx4QgBTIOW"
      },
      "execution_count": 87,
      "outputs": []
    },
    {
      "cell_type": "code",
      "source": [
        "pcasimilarity=cosine_similarity(finaldf)"
      ],
      "metadata": {
        "id": "SEs8m--zdpkW"
      },
      "execution_count": 88,
      "outputs": []
    },
    {
      "cell_type": "code",
      "source": [
        "pcalist=sorted(list(enumerate(pcasimilarity[0])),reverse=True, key=lambda x:x[1])[1:11]"
      ],
      "metadata": {
        "id": "QKVPFOhvdpg9"
      },
      "execution_count": 89,
      "outputs": []
    },
    {
      "cell_type": "code",
      "source": [
        "for i in pcalist:\n",
        "  unordered_list.append(dfcountry.iloc[i[0]].id)\n",
        "  print(dfcountry.iloc[i[0]].Hotel_Name,dfcountry.iloc[i[0]].country,dfcountry.iloc[i[0]].city)"
      ],
      "metadata": {
        "id": "QBpjlPiadpen",
        "colab": {
          "base_uri": "https://localhost:8080/"
        },
        "outputId": "d63e1152-b265-4575-e726-591ea122febb"
      },
      "execution_count": 90,
      "outputs": [
        {
          "output_type": "stream",
          "name": "stdout",
          "text": [
            "leonardo hotel vienna austria vienna\n",
            "hotel de france wien austria vienna\n",
            "austria trend hotel savoyen vienna austria vienna\n",
            "25hours hotel beim museumsquartier austria vienna\n",
            "hotel stefanie austria vienna\n",
            "austria trend parkhotel sch nbrunn wien austria vienna\n",
            "austria trend hotel ananas wien austria vienna\n",
            "austria trend hotel doppio wien austria vienna\n",
            "austria trend hotel park royal palace vienna austria vienna\n",
            "hotel erzherzog rainer austria vienna\n"
          ]
        }
      ]
    },
    {
      "cell_type": "markdown",
      "source": [
        "##Final Result"
      ],
      "metadata": {
        "id": "BdT1jqivanqz"
      }
    },
    {
      "cell_type": "code",
      "source": [
        "print(unordered_list)"
      ],
      "metadata": {
        "id": "iaTOt-b0eyTo",
        "colab": {
          "base_uri": "https://localhost:8080/"
        },
        "outputId": "3fc34a96-49b4-4f40-ab7f-75b5aee1704d"
      },
      "execution_count": 91,
      "outputs": [
        {
          "output_type": "stream",
          "name": "stdout",
          "text": [
            "[615, 748, 265, 333, 645, 352, 644, 600, 576, 741, 902, 791, 93, 3, 758, 94, 84, 88, 91, 622]\n"
          ]
        }
      ]
    },
    {
      "cell_type": "code",
      "source": [
        "unordered_list=[*set(unordered_list)]"
      ],
      "metadata": {
        "id": "ou2k7BpkeyRw"
      },
      "execution_count": 92,
      "outputs": []
    },
    {
      "cell_type": "code",
      "source": [
        "ordered_data=dfcountry.loc[data['id'].isin(unordered_list)]"
      ],
      "metadata": {
        "id": "bFCkkmIteyOz"
      },
      "execution_count": 93,
      "outputs": []
    },
    {
      "cell_type": "code",
      "source": [
        "ordered_data.insert(9, 'order_factor', (data.Total_Number_of_Reviews/data.review)*data.Average_Score)"
      ],
      "metadata": {
        "id": "V_92Rik0y_7Y"
      },
      "execution_count": 94,
      "outputs": []
    },
    {
      "cell_type": "code",
      "source": [
        "ordered_data=ordered_data.sort_values(by=['order_factor'],ascending=False)"
      ],
      "metadata": {
        "id": "4Fiyz3Vs3fpt"
      },
      "execution_count": 95,
      "outputs": []
    },
    {
      "cell_type": "code",
      "source": [
        "ordered_data.head()"
      ],
      "metadata": {
        "colab": {
          "base_uri": "https://localhost:8080/",
          "height": 756
        },
        "id": "fZp4Qmt93rtA",
        "outputId": "aaa1106b-3e16-4085-fbb3-6d7b77d5d48a"
      },
      "execution_count": 96,
      "outputs": [
        {
          "output_type": "execute_result",
          "data": {
            "text/plain": [
              "                             Hotel_Name  country    city    review  \\\n",
              "902               leonardo hotel vienna  austria  vienna  5.038937   \n",
              "791                hotel de france wien  austria  vienna  5.104256   \n",
              "3    25hours hotel beim museumsquartier  austria  vienna  5.187664   \n",
              "758                      hotel stefanie  austria  vienna  5.257101   \n",
              "93   austria trend hotel savoyen vienna  austria  vienna  5.194944   \n",
              "\n",
              "     Average_Score  Total_Number_of_Reviews  \\\n",
              "902       6.304348                 3.807061   \n",
              "791       7.173913                 3.087749   \n",
              "3         7.826087                 2.574728   \n",
              "758       8.478261                 2.309497   \n",
              "93        8.043478                 2.389487   \n",
              "\n",
              "                                                  Tags  Contract_Price   id  \\\n",
              "902   leisure trip solo traveler comfort double roo...           10000  902   \n",
              "791   leisure trip family with young children speci...           50000  791   \n",
              "3     leisure trip solo traveler standard double ro...           40000    3   \n",
              "758   leisure trip group superior double room staye...           10000  758   \n",
              "93    leisure trip couple deluxe room stayed 3 nigh...           20000   93   \n",
              "\n",
              "     order_factor  \n",
              "902      4.763115  \n",
              "791      4.339759  \n",
              "3        3.884223  \n",
              "758      3.724584  \n",
              "93       3.699710  "
            ],
            "text/html": [
              "\n",
              "  <div id=\"df-2da78361-08df-42be-a27b-de8f03c023dc\">\n",
              "    <div class=\"colab-df-container\">\n",
              "      <div>\n",
              "<style scoped>\n",
              "    .dataframe tbody tr th:only-of-type {\n",
              "        vertical-align: middle;\n",
              "    }\n",
              "\n",
              "    .dataframe tbody tr th {\n",
              "        vertical-align: top;\n",
              "    }\n",
              "\n",
              "    .dataframe thead th {\n",
              "        text-align: right;\n",
              "    }\n",
              "</style>\n",
              "<table border=\"1\" class=\"dataframe\">\n",
              "  <thead>\n",
              "    <tr style=\"text-align: right;\">\n",
              "      <th></th>\n",
              "      <th>Hotel_Name</th>\n",
              "      <th>country</th>\n",
              "      <th>city</th>\n",
              "      <th>review</th>\n",
              "      <th>Average_Score</th>\n",
              "      <th>Total_Number_of_Reviews</th>\n",
              "      <th>Tags</th>\n",
              "      <th>Contract_Price</th>\n",
              "      <th>id</th>\n",
              "      <th>order_factor</th>\n",
              "    </tr>\n",
              "  </thead>\n",
              "  <tbody>\n",
              "    <tr>\n",
              "      <th>902</th>\n",
              "      <td>leonardo hotel vienna</td>\n",
              "      <td>austria</td>\n",
              "      <td>vienna</td>\n",
              "      <td>5.038937</td>\n",
              "      <td>6.304348</td>\n",
              "      <td>3.807061</td>\n",
              "      <td>leisure trip solo traveler comfort double roo...</td>\n",
              "      <td>10000</td>\n",
              "      <td>902</td>\n",
              "      <td>4.763115</td>\n",
              "    </tr>\n",
              "    <tr>\n",
              "      <th>791</th>\n",
              "      <td>hotel de france wien</td>\n",
              "      <td>austria</td>\n",
              "      <td>vienna</td>\n",
              "      <td>5.104256</td>\n",
              "      <td>7.173913</td>\n",
              "      <td>3.087749</td>\n",
              "      <td>leisure trip family with young children speci...</td>\n",
              "      <td>50000</td>\n",
              "      <td>791</td>\n",
              "      <td>4.339759</td>\n",
              "    </tr>\n",
              "    <tr>\n",
              "      <th>3</th>\n",
              "      <td>25hours hotel beim museumsquartier</td>\n",
              "      <td>austria</td>\n",
              "      <td>vienna</td>\n",
              "      <td>5.187664</td>\n",
              "      <td>7.826087</td>\n",
              "      <td>2.574728</td>\n",
              "      <td>leisure trip solo traveler standard double ro...</td>\n",
              "      <td>40000</td>\n",
              "      <td>3</td>\n",
              "      <td>3.884223</td>\n",
              "    </tr>\n",
              "    <tr>\n",
              "      <th>758</th>\n",
              "      <td>hotel stefanie</td>\n",
              "      <td>austria</td>\n",
              "      <td>vienna</td>\n",
              "      <td>5.257101</td>\n",
              "      <td>8.478261</td>\n",
              "      <td>2.309497</td>\n",
              "      <td>leisure trip group superior double room staye...</td>\n",
              "      <td>10000</td>\n",
              "      <td>758</td>\n",
              "      <td>3.724584</td>\n",
              "    </tr>\n",
              "    <tr>\n",
              "      <th>93</th>\n",
              "      <td>austria trend hotel savoyen vienna</td>\n",
              "      <td>austria</td>\n",
              "      <td>vienna</td>\n",
              "      <td>5.194944</td>\n",
              "      <td>8.043478</td>\n",
              "      <td>2.389487</td>\n",
              "      <td>leisure trip couple deluxe room stayed 3 nigh...</td>\n",
              "      <td>20000</td>\n",
              "      <td>93</td>\n",
              "      <td>3.699710</td>\n",
              "    </tr>\n",
              "  </tbody>\n",
              "</table>\n",
              "</div>\n",
              "      <button class=\"colab-df-convert\" onclick=\"convertToInteractive('df-2da78361-08df-42be-a27b-de8f03c023dc')\"\n",
              "              title=\"Convert this dataframe to an interactive table.\"\n",
              "              style=\"display:none;\">\n",
              "        \n",
              "  <svg xmlns=\"http://www.w3.org/2000/svg\" height=\"24px\"viewBox=\"0 0 24 24\"\n",
              "       width=\"24px\">\n",
              "    <path d=\"M0 0h24v24H0V0z\" fill=\"none\"/>\n",
              "    <path d=\"M18.56 5.44l.94 2.06.94-2.06 2.06-.94-2.06-.94-.94-2.06-.94 2.06-2.06.94zm-11 1L8.5 8.5l.94-2.06 2.06-.94-2.06-.94L8.5 2.5l-.94 2.06-2.06.94zm10 10l.94 2.06.94-2.06 2.06-.94-2.06-.94-.94-2.06-.94 2.06-2.06.94z\"/><path d=\"M17.41 7.96l-1.37-1.37c-.4-.4-.92-.59-1.43-.59-.52 0-1.04.2-1.43.59L10.3 9.45l-7.72 7.72c-.78.78-.78 2.05 0 2.83L4 21.41c.39.39.9.59 1.41.59.51 0 1.02-.2 1.41-.59l7.78-7.78 2.81-2.81c.8-.78.8-2.07 0-2.86zM5.41 20L4 18.59l7.72-7.72 1.47 1.35L5.41 20z\"/>\n",
              "  </svg>\n",
              "      </button>\n",
              "      \n",
              "  <style>\n",
              "    .colab-df-container {\n",
              "      display:flex;\n",
              "      flex-wrap:wrap;\n",
              "      gap: 12px;\n",
              "    }\n",
              "\n",
              "    .colab-df-convert {\n",
              "      background-color: #E8F0FE;\n",
              "      border: none;\n",
              "      border-radius: 50%;\n",
              "      cursor: pointer;\n",
              "      display: none;\n",
              "      fill: #1967D2;\n",
              "      height: 32px;\n",
              "      padding: 0 0 0 0;\n",
              "      width: 32px;\n",
              "    }\n",
              "\n",
              "    .colab-df-convert:hover {\n",
              "      background-color: #E2EBFA;\n",
              "      box-shadow: 0px 1px 2px rgba(60, 64, 67, 0.3), 0px 1px 3px 1px rgba(60, 64, 67, 0.15);\n",
              "      fill: #174EA6;\n",
              "    }\n",
              "\n",
              "    [theme=dark] .colab-df-convert {\n",
              "      background-color: #3B4455;\n",
              "      fill: #D2E3FC;\n",
              "    }\n",
              "\n",
              "    [theme=dark] .colab-df-convert:hover {\n",
              "      background-color: #434B5C;\n",
              "      box-shadow: 0px 1px 3px 1px rgba(0, 0, 0, 0.15);\n",
              "      filter: drop-shadow(0px 1px 2px rgba(0, 0, 0, 0.3));\n",
              "      fill: #FFFFFF;\n",
              "    }\n",
              "  </style>\n",
              "\n",
              "      <script>\n",
              "        const buttonEl =\n",
              "          document.querySelector('#df-2da78361-08df-42be-a27b-de8f03c023dc button.colab-df-convert');\n",
              "        buttonEl.style.display =\n",
              "          google.colab.kernel.accessAllowed ? 'block' : 'none';\n",
              "\n",
              "        async function convertToInteractive(key) {\n",
              "          const element = document.querySelector('#df-2da78361-08df-42be-a27b-de8f03c023dc');\n",
              "          const dataTable =\n",
              "            await google.colab.kernel.invokeFunction('convertToInteractive',\n",
              "                                                     [key], {});\n",
              "          if (!dataTable) return;\n",
              "\n",
              "          const docLinkHtml = 'Like what you see? Visit the ' +\n",
              "            '<a target=\"_blank\" href=https://colab.research.google.com/notebooks/data_table.ipynb>data table notebook</a>'\n",
              "            + ' to learn more about interactive tables.';\n",
              "          element.innerHTML = '';\n",
              "          dataTable['output_type'] = 'display_data';\n",
              "          await google.colab.output.renderOutput(dataTable, element);\n",
              "          const docLink = document.createElement('div');\n",
              "          docLink.innerHTML = docLinkHtml;\n",
              "          element.appendChild(docLink);\n",
              "        }\n",
              "      </script>\n",
              "    </div>\n",
              "  </div>\n",
              "  "
            ]
          },
          "metadata": {},
          "execution_count": 96
        }
      ]
    },
    {
      "cell_type": "code",
      "source": [
        "result1=[]\n",
        "for index,row in ordered_data.iterrows():\n",
        "  result1.append(row['Hotel_Name'])"
      ],
      "metadata": {
        "id": "jQ8Jg4CUbBQk"
      },
      "execution_count": 97,
      "outputs": []
    },
    {
      "cell_type": "code",
      "source": [
        "ordered_data.insert(10, 'order', range(len(ordered_data)))"
      ],
      "metadata": {
        "id": "R7DoIL0PDI5C"
      },
      "execution_count": 98,
      "outputs": []
    },
    {
      "cell_type": "code",
      "source": [
        "ordered_data.head()"
      ],
      "metadata": {
        "colab": {
          "base_uri": "https://localhost:8080/",
          "height": 756
        },
        "id": "S3HM6ZEe3zmL",
        "outputId": "f6d8c2a4-b526-4224-d138-c2de83addaa8"
      },
      "execution_count": 99,
      "outputs": [
        {
          "output_type": "execute_result",
          "data": {
            "text/plain": [
              "                             Hotel_Name  country    city    review  \\\n",
              "902               leonardo hotel vienna  austria  vienna  5.038937   \n",
              "791                hotel de france wien  austria  vienna  5.104256   \n",
              "3    25hours hotel beim museumsquartier  austria  vienna  5.187664   \n",
              "758                      hotel stefanie  austria  vienna  5.257101   \n",
              "93   austria trend hotel savoyen vienna  austria  vienna  5.194944   \n",
              "\n",
              "     Average_Score  Total_Number_of_Reviews  \\\n",
              "902       6.304348                 3.807061   \n",
              "791       7.173913                 3.087749   \n",
              "3         7.826087                 2.574728   \n",
              "758       8.478261                 2.309497   \n",
              "93        8.043478                 2.389487   \n",
              "\n",
              "                                                  Tags  Contract_Price   id  \\\n",
              "902   leisure trip solo traveler comfort double roo...           10000  902   \n",
              "791   leisure trip family with young children speci...           50000  791   \n",
              "3     leisure trip solo traveler standard double ro...           40000    3   \n",
              "758   leisure trip group superior double room staye...           10000  758   \n",
              "93    leisure trip couple deluxe room stayed 3 nigh...           20000   93   \n",
              "\n",
              "     order_factor  order  \n",
              "902      4.763115      0  \n",
              "791      4.339759      1  \n",
              "3        3.884223      2  \n",
              "758      3.724584      3  \n",
              "93       3.699710      4  "
            ],
            "text/html": [
              "\n",
              "  <div id=\"df-3683bbb2-7e41-4e3a-80eb-0e400c36c3c1\">\n",
              "    <div class=\"colab-df-container\">\n",
              "      <div>\n",
              "<style scoped>\n",
              "    .dataframe tbody tr th:only-of-type {\n",
              "        vertical-align: middle;\n",
              "    }\n",
              "\n",
              "    .dataframe tbody tr th {\n",
              "        vertical-align: top;\n",
              "    }\n",
              "\n",
              "    .dataframe thead th {\n",
              "        text-align: right;\n",
              "    }\n",
              "</style>\n",
              "<table border=\"1\" class=\"dataframe\">\n",
              "  <thead>\n",
              "    <tr style=\"text-align: right;\">\n",
              "      <th></th>\n",
              "      <th>Hotel_Name</th>\n",
              "      <th>country</th>\n",
              "      <th>city</th>\n",
              "      <th>review</th>\n",
              "      <th>Average_Score</th>\n",
              "      <th>Total_Number_of_Reviews</th>\n",
              "      <th>Tags</th>\n",
              "      <th>Contract_Price</th>\n",
              "      <th>id</th>\n",
              "      <th>order_factor</th>\n",
              "      <th>order</th>\n",
              "    </tr>\n",
              "  </thead>\n",
              "  <tbody>\n",
              "    <tr>\n",
              "      <th>902</th>\n",
              "      <td>leonardo hotel vienna</td>\n",
              "      <td>austria</td>\n",
              "      <td>vienna</td>\n",
              "      <td>5.038937</td>\n",
              "      <td>6.304348</td>\n",
              "      <td>3.807061</td>\n",
              "      <td>leisure trip solo traveler comfort double roo...</td>\n",
              "      <td>10000</td>\n",
              "      <td>902</td>\n",
              "      <td>4.763115</td>\n",
              "      <td>0</td>\n",
              "    </tr>\n",
              "    <tr>\n",
              "      <th>791</th>\n",
              "      <td>hotel de france wien</td>\n",
              "      <td>austria</td>\n",
              "      <td>vienna</td>\n",
              "      <td>5.104256</td>\n",
              "      <td>7.173913</td>\n",
              "      <td>3.087749</td>\n",
              "      <td>leisure trip family with young children speci...</td>\n",
              "      <td>50000</td>\n",
              "      <td>791</td>\n",
              "      <td>4.339759</td>\n",
              "      <td>1</td>\n",
              "    </tr>\n",
              "    <tr>\n",
              "      <th>3</th>\n",
              "      <td>25hours hotel beim museumsquartier</td>\n",
              "      <td>austria</td>\n",
              "      <td>vienna</td>\n",
              "      <td>5.187664</td>\n",
              "      <td>7.826087</td>\n",
              "      <td>2.574728</td>\n",
              "      <td>leisure trip solo traveler standard double ro...</td>\n",
              "      <td>40000</td>\n",
              "      <td>3</td>\n",
              "      <td>3.884223</td>\n",
              "      <td>2</td>\n",
              "    </tr>\n",
              "    <tr>\n",
              "      <th>758</th>\n",
              "      <td>hotel stefanie</td>\n",
              "      <td>austria</td>\n",
              "      <td>vienna</td>\n",
              "      <td>5.257101</td>\n",
              "      <td>8.478261</td>\n",
              "      <td>2.309497</td>\n",
              "      <td>leisure trip group superior double room staye...</td>\n",
              "      <td>10000</td>\n",
              "      <td>758</td>\n",
              "      <td>3.724584</td>\n",
              "      <td>3</td>\n",
              "    </tr>\n",
              "    <tr>\n",
              "      <th>93</th>\n",
              "      <td>austria trend hotel savoyen vienna</td>\n",
              "      <td>austria</td>\n",
              "      <td>vienna</td>\n",
              "      <td>5.194944</td>\n",
              "      <td>8.043478</td>\n",
              "      <td>2.389487</td>\n",
              "      <td>leisure trip couple deluxe room stayed 3 nigh...</td>\n",
              "      <td>20000</td>\n",
              "      <td>93</td>\n",
              "      <td>3.699710</td>\n",
              "      <td>4</td>\n",
              "    </tr>\n",
              "  </tbody>\n",
              "</table>\n",
              "</div>\n",
              "      <button class=\"colab-df-convert\" onclick=\"convertToInteractive('df-3683bbb2-7e41-4e3a-80eb-0e400c36c3c1')\"\n",
              "              title=\"Convert this dataframe to an interactive table.\"\n",
              "              style=\"display:none;\">\n",
              "        \n",
              "  <svg xmlns=\"http://www.w3.org/2000/svg\" height=\"24px\"viewBox=\"0 0 24 24\"\n",
              "       width=\"24px\">\n",
              "    <path d=\"M0 0h24v24H0V0z\" fill=\"none\"/>\n",
              "    <path d=\"M18.56 5.44l.94 2.06.94-2.06 2.06-.94-2.06-.94-.94-2.06-.94 2.06-2.06.94zm-11 1L8.5 8.5l.94-2.06 2.06-.94-2.06-.94L8.5 2.5l-.94 2.06-2.06.94zm10 10l.94 2.06.94-2.06 2.06-.94-2.06-.94-.94-2.06-.94 2.06-2.06.94z\"/><path d=\"M17.41 7.96l-1.37-1.37c-.4-.4-.92-.59-1.43-.59-.52 0-1.04.2-1.43.59L10.3 9.45l-7.72 7.72c-.78.78-.78 2.05 0 2.83L4 21.41c.39.39.9.59 1.41.59.51 0 1.02-.2 1.41-.59l7.78-7.78 2.81-2.81c.8-.78.8-2.07 0-2.86zM5.41 20L4 18.59l7.72-7.72 1.47 1.35L5.41 20z\"/>\n",
              "  </svg>\n",
              "      </button>\n",
              "      \n",
              "  <style>\n",
              "    .colab-df-container {\n",
              "      display:flex;\n",
              "      flex-wrap:wrap;\n",
              "      gap: 12px;\n",
              "    }\n",
              "\n",
              "    .colab-df-convert {\n",
              "      background-color: #E8F0FE;\n",
              "      border: none;\n",
              "      border-radius: 50%;\n",
              "      cursor: pointer;\n",
              "      display: none;\n",
              "      fill: #1967D2;\n",
              "      height: 32px;\n",
              "      padding: 0 0 0 0;\n",
              "      width: 32px;\n",
              "    }\n",
              "\n",
              "    .colab-df-convert:hover {\n",
              "      background-color: #E2EBFA;\n",
              "      box-shadow: 0px 1px 2px rgba(60, 64, 67, 0.3), 0px 1px 3px 1px rgba(60, 64, 67, 0.15);\n",
              "      fill: #174EA6;\n",
              "    }\n",
              "\n",
              "    [theme=dark] .colab-df-convert {\n",
              "      background-color: #3B4455;\n",
              "      fill: #D2E3FC;\n",
              "    }\n",
              "\n",
              "    [theme=dark] .colab-df-convert:hover {\n",
              "      background-color: #434B5C;\n",
              "      box-shadow: 0px 1px 3px 1px rgba(0, 0, 0, 0.15);\n",
              "      filter: drop-shadow(0px 1px 2px rgba(0, 0, 0, 0.3));\n",
              "      fill: #FFFFFF;\n",
              "    }\n",
              "  </style>\n",
              "\n",
              "      <script>\n",
              "        const buttonEl =\n",
              "          document.querySelector('#df-3683bbb2-7e41-4e3a-80eb-0e400c36c3c1 button.colab-df-convert');\n",
              "        buttonEl.style.display =\n",
              "          google.colab.kernel.accessAllowed ? 'block' : 'none';\n",
              "\n",
              "        async function convertToInteractive(key) {\n",
              "          const element = document.querySelector('#df-3683bbb2-7e41-4e3a-80eb-0e400c36c3c1');\n",
              "          const dataTable =\n",
              "            await google.colab.kernel.invokeFunction('convertToInteractive',\n",
              "                                                     [key], {});\n",
              "          if (!dataTable) return;\n",
              "\n",
              "          const docLinkHtml = 'Like what you see? Visit the ' +\n",
              "            '<a target=\"_blank\" href=https://colab.research.google.com/notebooks/data_table.ipynb>data table notebook</a>'\n",
              "            + ' to learn more about interactive tables.';\n",
              "          element.innerHTML = '';\n",
              "          dataTable['output_type'] = 'display_data';\n",
              "          await google.colab.output.renderOutput(dataTable, element);\n",
              "          const docLink = document.createElement('div');\n",
              "          docLink.innerHTML = docLinkHtml;\n",
              "          element.appendChild(docLink);\n",
              "        }\n",
              "      </script>\n",
              "    </div>\n",
              "  </div>\n",
              "  "
            ]
          },
          "metadata": {},
          "execution_count": 99
        }
      ]
    },
    {
      "cell_type": "code",
      "source": [
        "for i, row in ordered_data.iterrows():\n",
        "  if row['Contract_Price']==10000:\n",
        "     ordered_data.at[i,'order'] = ordered_data.at[i,'order']-1\n",
        "  if row['Contract_Price']==20000:\n",
        "     ordered_data.at[i,'order'] = ordered_data.at[i,'order']-2\n",
        "  if row['Contract_Price']==30000:\n",
        "     ordered_data.at[i,'order'] = ordered_data.at[i,'order']-3\n",
        "  if row['Contract_Price']==40000:\n",
        "     ordered_data.at[i,'order'] = ordered_data.at[i,'order']-4\n",
        "  if row['Contract_Price']==50000:\n",
        "     ordered_data.at[i,'order'] = ordered_data.at[i,'order']-5"
      ],
      "metadata": {
        "id": "2_QSk5RODTyu"
      },
      "execution_count": 100,
      "outputs": []
    },
    {
      "cell_type": "code",
      "source": [
        "ordered_data=ordered_data.sort_values(by=['order'],ascending=True)"
      ],
      "metadata": {
        "id": "6ic5OMMya1Rg"
      },
      "execution_count": 101,
      "outputs": []
    },
    {
      "cell_type": "code",
      "source": [
        "result2=[]\n",
        "for index,row in ordered_data.iterrows():\n",
        "  result2.append(row['Hotel_Name'])"
      ],
      "metadata": {
        "id": "S5OxI9v5x0F8"
      },
      "execution_count": 102,
      "outputs": []
    },
    {
      "cell_type": "code",
      "source": [
        "print(\"Recommended Hotels without price paid considered\")\n",
        "print(*result1,sep='\\n')"
      ],
      "metadata": {
        "id": "rpNdNVAUyEPG",
        "colab": {
          "base_uri": "https://localhost:8080/"
        },
        "outputId": "078fa80b-f512-458d-c81d-2f8a7b189ef1"
      },
      "execution_count": 103,
      "outputs": [
        {
          "output_type": "stream",
          "name": "stdout",
          "text": [
            "Recommended Hotels without price paid considered\n",
            "leonardo hotel vienna\n",
            "hotel de france wien\n",
            "25hours hotel beim museumsquartier\n",
            "hotel stefanie\n",
            "austria trend hotel savoyen vienna\n",
            "austria trend parkhotel sch nbrunn wien\n",
            "austria trend hotel park royal palace vienna\n",
            "austria trend hotel ananas wien\n",
            "hotel erzherzog rainer\n",
            "austria trend hotel doppio wien\n",
            "hotel domizil\n",
            "hotel k nig von ungarn\n",
            "das opernring hotel\n",
            "fourside hotel suites vienna\n",
            "hotel schild\n",
            "hotel sacher wien\n",
            "graben hotel\n",
            "hotel beethoven wien\n",
            "hotel johann strauss\n",
            "hotel corvinus\n"
          ]
        }
      ]
    },
    {
      "cell_type": "code",
      "source": [
        "print(\"Recommended Hotels with price paid considered\")\n",
        "print(*result2,sep='\\n')"
      ],
      "metadata": {
        "id": "mFAgXqndyeIo",
        "colab": {
          "base_uri": "https://localhost:8080/"
        },
        "outputId": "b4caaf3d-e3ca-4740-d015-eed7ec7a00c3"
      },
      "execution_count": 104,
      "outputs": [
        {
          "output_type": "stream",
          "name": "stdout",
          "text": [
            "Recommended Hotels with price paid considered\n",
            "hotel de france wien\n",
            "25hours hotel beim museumsquartier\n",
            "leonardo hotel vienna\n",
            "hotel stefanie\n",
            "austria trend hotel savoyen vienna\n",
            "austria trend hotel ananas wien\n",
            "hotel erzherzog rainer\n",
            "austria trend hotel doppio wien\n",
            "austria trend parkhotel sch nbrunn wien\n",
            "austria trend hotel park royal palace vienna\n",
            "hotel domizil\n",
            "hotel k nig von ungarn\n",
            "das opernring hotel\n",
            "fourside hotel suites vienna\n",
            "hotel schild\n",
            "hotel sacher wien\n",
            "hotel beethoven wien\n",
            "graben hotel\n",
            "hotel corvinus\n",
            "hotel johann strauss\n"
          ]
        }
      ]
    }
  ],
  "metadata": {
    "colab": {
      "provenance": [],
      "toc_visible": true
    },
    "kernelspec": {
      "display_name": "Python 3",
      "name": "python3"
    },
    "language_info": {
      "name": "python"
    },
    "gpuClass": "standard"
  },
  "nbformat": 4,
  "nbformat_minor": 0
}